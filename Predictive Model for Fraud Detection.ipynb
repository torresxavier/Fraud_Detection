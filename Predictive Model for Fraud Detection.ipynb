{
 "cells": [
  {
   "cell_type": "markdown",
   "metadata": {},
   "source": [
    "# Predictive Model for Fraud Detection\n",
    "### Financial analytics\n",
    "*By: Xavier Torres*"
   ]
  },
  {
   "cell_type": "markdown",
   "metadata": {},
   "source": [
    "![Fraud_img](https://raw.githubusercontent.com/torresxavier/Resources/master/fraud_prev.jpeg)"
   ]
  },
  {
   "cell_type": "markdown",
   "metadata": {},
   "source": [
    "We are going to load a dataset with **28 variables** describing the transaction (name of variables have been anonymized due to data protection policies), and two other variables describing the **amount** of the transaction and the transaction **class: 0 if this is a regular transaction and 1 if this is labelled as a fraud**."
   ]
  },
  {
   "cell_type": "markdown",
   "metadata": {},
   "source": [
    "## Load libraries and first dataset exploration"
   ]
  },
  {
   "cell_type": "code",
   "execution_count": 1,
   "metadata": {},
   "outputs": [
    {
     "name": "stderr",
     "output_type": "stream",
     "text": [
      "Using TensorFlow backend.\n"
     ]
    }
   ],
   "source": [
    "import pandas as pd\n",
    "import matplotlib.pyplot as plt\n",
    "import numpy as np\n",
    "from sklearn.model_selection import train_test_split\n",
    "from sklearn.linear_model import LogisticRegression\n",
    "from sklearn.ensemble import RandomForestClassifier \n",
    "from sklearn.metrics import confusion_matrix\n",
    "from sklearn.metrics import accuracy_score, precision_score, recall_score, f1_score\n",
    "import seaborn as sns\n",
    "from imblearn.over_sampling import SMOTE\n",
    "from sklearn.metrics import roc_curve, precision_recall_curve, average_precision_score, roc_auc_score\n",
    "from sklearn.model_selection import StratifiedKFold"
   ]
  },
  {
   "cell_type": "code",
   "execution_count": 2,
   "metadata": {},
   "outputs": [],
   "source": [
    "df=pd.read_csv(\"creditcard.csv\")"
   ]
  },
  {
   "cell_type": "code",
   "execution_count": 3,
   "metadata": {},
   "outputs": [
    {
     "data": {
      "text/html": [
       "<div>\n",
       "<style scoped>\n",
       "    .dataframe tbody tr th:only-of-type {\n",
       "        vertical-align: middle;\n",
       "    }\n",
       "\n",
       "    .dataframe tbody tr th {\n",
       "        vertical-align: top;\n",
       "    }\n",
       "\n",
       "    .dataframe thead th {\n",
       "        text-align: right;\n",
       "    }\n",
       "</style>\n",
       "<table border=\"1\" class=\"dataframe\">\n",
       "  <thead>\n",
       "    <tr style=\"text-align: right;\">\n",
       "      <th></th>\n",
       "      <th>Time</th>\n",
       "      <th>V1</th>\n",
       "      <th>V2</th>\n",
       "      <th>V3</th>\n",
       "      <th>V4</th>\n",
       "      <th>V5</th>\n",
       "      <th>V6</th>\n",
       "      <th>V7</th>\n",
       "      <th>V8</th>\n",
       "      <th>V9</th>\n",
       "      <th>...</th>\n",
       "      <th>V21</th>\n",
       "      <th>V22</th>\n",
       "      <th>V23</th>\n",
       "      <th>V24</th>\n",
       "      <th>V25</th>\n",
       "      <th>V26</th>\n",
       "      <th>V27</th>\n",
       "      <th>V28</th>\n",
       "      <th>Amount</th>\n",
       "      <th>Class</th>\n",
       "    </tr>\n",
       "  </thead>\n",
       "  <tbody>\n",
       "    <tr>\n",
       "      <th>0</th>\n",
       "      <td>0.0</td>\n",
       "      <td>-1.359807</td>\n",
       "      <td>-0.072781</td>\n",
       "      <td>2.536347</td>\n",
       "      <td>1.378155</td>\n",
       "      <td>-0.338321</td>\n",
       "      <td>0.462388</td>\n",
       "      <td>0.239599</td>\n",
       "      <td>0.098698</td>\n",
       "      <td>0.363787</td>\n",
       "      <td>...</td>\n",
       "      <td>-0.018307</td>\n",
       "      <td>0.277838</td>\n",
       "      <td>-0.110474</td>\n",
       "      <td>0.066928</td>\n",
       "      <td>0.128539</td>\n",
       "      <td>-0.189115</td>\n",
       "      <td>0.133558</td>\n",
       "      <td>-0.021053</td>\n",
       "      <td>149.62</td>\n",
       "      <td>0</td>\n",
       "    </tr>\n",
       "    <tr>\n",
       "      <th>1</th>\n",
       "      <td>0.0</td>\n",
       "      <td>1.191857</td>\n",
       "      <td>0.266151</td>\n",
       "      <td>0.166480</td>\n",
       "      <td>0.448154</td>\n",
       "      <td>0.060018</td>\n",
       "      <td>-0.082361</td>\n",
       "      <td>-0.078803</td>\n",
       "      <td>0.085102</td>\n",
       "      <td>-0.255425</td>\n",
       "      <td>...</td>\n",
       "      <td>-0.225775</td>\n",
       "      <td>-0.638672</td>\n",
       "      <td>0.101288</td>\n",
       "      <td>-0.339846</td>\n",
       "      <td>0.167170</td>\n",
       "      <td>0.125895</td>\n",
       "      <td>-0.008983</td>\n",
       "      <td>0.014724</td>\n",
       "      <td>2.69</td>\n",
       "      <td>0</td>\n",
       "    </tr>\n",
       "    <tr>\n",
       "      <th>2</th>\n",
       "      <td>1.0</td>\n",
       "      <td>-1.358354</td>\n",
       "      <td>-1.340163</td>\n",
       "      <td>1.773209</td>\n",
       "      <td>0.379780</td>\n",
       "      <td>-0.503198</td>\n",
       "      <td>1.800499</td>\n",
       "      <td>0.791461</td>\n",
       "      <td>0.247676</td>\n",
       "      <td>-1.514654</td>\n",
       "      <td>...</td>\n",
       "      <td>0.247998</td>\n",
       "      <td>0.771679</td>\n",
       "      <td>0.909412</td>\n",
       "      <td>-0.689281</td>\n",
       "      <td>-0.327642</td>\n",
       "      <td>-0.139097</td>\n",
       "      <td>-0.055353</td>\n",
       "      <td>-0.059752</td>\n",
       "      <td>378.66</td>\n",
       "      <td>0</td>\n",
       "    </tr>\n",
       "    <tr>\n",
       "      <th>3</th>\n",
       "      <td>1.0</td>\n",
       "      <td>-0.966272</td>\n",
       "      <td>-0.185226</td>\n",
       "      <td>1.792993</td>\n",
       "      <td>-0.863291</td>\n",
       "      <td>-0.010309</td>\n",
       "      <td>1.247203</td>\n",
       "      <td>0.237609</td>\n",
       "      <td>0.377436</td>\n",
       "      <td>-1.387024</td>\n",
       "      <td>...</td>\n",
       "      <td>-0.108300</td>\n",
       "      <td>0.005274</td>\n",
       "      <td>-0.190321</td>\n",
       "      <td>-1.175575</td>\n",
       "      <td>0.647376</td>\n",
       "      <td>-0.221929</td>\n",
       "      <td>0.062723</td>\n",
       "      <td>0.061458</td>\n",
       "      <td>123.50</td>\n",
       "      <td>0</td>\n",
       "    </tr>\n",
       "    <tr>\n",
       "      <th>4</th>\n",
       "      <td>2.0</td>\n",
       "      <td>-1.158233</td>\n",
       "      <td>0.877737</td>\n",
       "      <td>1.548718</td>\n",
       "      <td>0.403034</td>\n",
       "      <td>-0.407193</td>\n",
       "      <td>0.095921</td>\n",
       "      <td>0.592941</td>\n",
       "      <td>-0.270533</td>\n",
       "      <td>0.817739</td>\n",
       "      <td>...</td>\n",
       "      <td>-0.009431</td>\n",
       "      <td>0.798278</td>\n",
       "      <td>-0.137458</td>\n",
       "      <td>0.141267</td>\n",
       "      <td>-0.206010</td>\n",
       "      <td>0.502292</td>\n",
       "      <td>0.219422</td>\n",
       "      <td>0.215153</td>\n",
       "      <td>69.99</td>\n",
       "      <td>0</td>\n",
       "    </tr>\n",
       "  </tbody>\n",
       "</table>\n",
       "<p>5 rows × 31 columns</p>\n",
       "</div>"
      ],
      "text/plain": [
       "   Time        V1        V2        V3        V4        V5        V6        V7  \\\n",
       "0   0.0 -1.359807 -0.072781  2.536347  1.378155 -0.338321  0.462388  0.239599   \n",
       "1   0.0  1.191857  0.266151  0.166480  0.448154  0.060018 -0.082361 -0.078803   \n",
       "2   1.0 -1.358354 -1.340163  1.773209  0.379780 -0.503198  1.800499  0.791461   \n",
       "3   1.0 -0.966272 -0.185226  1.792993 -0.863291 -0.010309  1.247203  0.237609   \n",
       "4   2.0 -1.158233  0.877737  1.548718  0.403034 -0.407193  0.095921  0.592941   \n",
       "\n",
       "         V8        V9  ...       V21       V22       V23       V24       V25  \\\n",
       "0  0.098698  0.363787  ... -0.018307  0.277838 -0.110474  0.066928  0.128539   \n",
       "1  0.085102 -0.255425  ... -0.225775 -0.638672  0.101288 -0.339846  0.167170   \n",
       "2  0.247676 -1.514654  ...  0.247998  0.771679  0.909412 -0.689281 -0.327642   \n",
       "3  0.377436 -1.387024  ... -0.108300  0.005274 -0.190321 -1.175575  0.647376   \n",
       "4 -0.270533  0.817739  ... -0.009431  0.798278 -0.137458  0.141267 -0.206010   \n",
       "\n",
       "        V26       V27       V28  Amount  Class  \n",
       "0 -0.189115  0.133558 -0.021053  149.62      0  \n",
       "1  0.125895 -0.008983  0.014724    2.69      0  \n",
       "2 -0.139097 -0.055353 -0.059752  378.66      0  \n",
       "3 -0.221929  0.062723  0.061458  123.50      0  \n",
       "4  0.502292  0.219422  0.215153   69.99      0  \n",
       "\n",
       "[5 rows x 31 columns]"
      ]
     },
     "execution_count": 3,
     "metadata": {},
     "output_type": "execute_result"
    }
   ],
   "source": [
    "df.head()"
   ]
  },
  {
   "cell_type": "code",
   "execution_count": 4,
   "metadata": {},
   "outputs": [
    {
     "data": {
      "text/html": [
       "<div>\n",
       "<style scoped>\n",
       "    .dataframe tbody tr th:only-of-type {\n",
       "        vertical-align: middle;\n",
       "    }\n",
       "\n",
       "    .dataframe tbody tr th {\n",
       "        vertical-align: top;\n",
       "    }\n",
       "\n",
       "    .dataframe thead th {\n",
       "        text-align: right;\n",
       "    }\n",
       "</style>\n",
       "<table border=\"1\" class=\"dataframe\">\n",
       "  <thead>\n",
       "    <tr style=\"text-align: right;\">\n",
       "      <th></th>\n",
       "      <th>Time</th>\n",
       "      <th>V1</th>\n",
       "      <th>V2</th>\n",
       "      <th>V3</th>\n",
       "      <th>V4</th>\n",
       "      <th>V5</th>\n",
       "      <th>V6</th>\n",
       "      <th>V7</th>\n",
       "      <th>V8</th>\n",
       "      <th>V9</th>\n",
       "      <th>...</th>\n",
       "      <th>V21</th>\n",
       "      <th>V22</th>\n",
       "      <th>V23</th>\n",
       "      <th>V24</th>\n",
       "      <th>V25</th>\n",
       "      <th>V26</th>\n",
       "      <th>V27</th>\n",
       "      <th>V28</th>\n",
       "      <th>Amount</th>\n",
       "      <th>Class</th>\n",
       "    </tr>\n",
       "  </thead>\n",
       "  <tbody>\n",
       "    <tr>\n",
       "      <th>count</th>\n",
       "      <td>284807.000000</td>\n",
       "      <td>2.848070e+05</td>\n",
       "      <td>2.848070e+05</td>\n",
       "      <td>2.848070e+05</td>\n",
       "      <td>2.848070e+05</td>\n",
       "      <td>2.848070e+05</td>\n",
       "      <td>2.848070e+05</td>\n",
       "      <td>2.848070e+05</td>\n",
       "      <td>2.848070e+05</td>\n",
       "      <td>2.848070e+05</td>\n",
       "      <td>...</td>\n",
       "      <td>2.848070e+05</td>\n",
       "      <td>2.848070e+05</td>\n",
       "      <td>2.848070e+05</td>\n",
       "      <td>2.848070e+05</td>\n",
       "      <td>2.848070e+05</td>\n",
       "      <td>2.848070e+05</td>\n",
       "      <td>2.848070e+05</td>\n",
       "      <td>2.848070e+05</td>\n",
       "      <td>284807.000000</td>\n",
       "      <td>284807.000000</td>\n",
       "    </tr>\n",
       "    <tr>\n",
       "      <th>mean</th>\n",
       "      <td>94813.859575</td>\n",
       "      <td>1.165980e-15</td>\n",
       "      <td>3.416908e-16</td>\n",
       "      <td>-1.373150e-15</td>\n",
       "      <td>2.086869e-15</td>\n",
       "      <td>9.604066e-16</td>\n",
       "      <td>1.490107e-15</td>\n",
       "      <td>-5.556467e-16</td>\n",
       "      <td>1.177556e-16</td>\n",
       "      <td>-2.406455e-15</td>\n",
       "      <td>...</td>\n",
       "      <td>1.656562e-16</td>\n",
       "      <td>-3.444850e-16</td>\n",
       "      <td>2.578648e-16</td>\n",
       "      <td>4.471968e-15</td>\n",
       "      <td>5.340915e-16</td>\n",
       "      <td>1.687098e-15</td>\n",
       "      <td>-3.666453e-16</td>\n",
       "      <td>-1.220404e-16</td>\n",
       "      <td>88.349619</td>\n",
       "      <td>0.001727</td>\n",
       "    </tr>\n",
       "    <tr>\n",
       "      <th>std</th>\n",
       "      <td>47488.145955</td>\n",
       "      <td>1.958696e+00</td>\n",
       "      <td>1.651309e+00</td>\n",
       "      <td>1.516255e+00</td>\n",
       "      <td>1.415869e+00</td>\n",
       "      <td>1.380247e+00</td>\n",
       "      <td>1.332271e+00</td>\n",
       "      <td>1.237094e+00</td>\n",
       "      <td>1.194353e+00</td>\n",
       "      <td>1.098632e+00</td>\n",
       "      <td>...</td>\n",
       "      <td>7.345240e-01</td>\n",
       "      <td>7.257016e-01</td>\n",
       "      <td>6.244603e-01</td>\n",
       "      <td>6.056471e-01</td>\n",
       "      <td>5.212781e-01</td>\n",
       "      <td>4.822270e-01</td>\n",
       "      <td>4.036325e-01</td>\n",
       "      <td>3.300833e-01</td>\n",
       "      <td>250.120109</td>\n",
       "      <td>0.041527</td>\n",
       "    </tr>\n",
       "    <tr>\n",
       "      <th>min</th>\n",
       "      <td>0.000000</td>\n",
       "      <td>-5.640751e+01</td>\n",
       "      <td>-7.271573e+01</td>\n",
       "      <td>-4.832559e+01</td>\n",
       "      <td>-5.683171e+00</td>\n",
       "      <td>-1.137433e+02</td>\n",
       "      <td>-2.616051e+01</td>\n",
       "      <td>-4.355724e+01</td>\n",
       "      <td>-7.321672e+01</td>\n",
       "      <td>-1.343407e+01</td>\n",
       "      <td>...</td>\n",
       "      <td>-3.483038e+01</td>\n",
       "      <td>-1.093314e+01</td>\n",
       "      <td>-4.480774e+01</td>\n",
       "      <td>-2.836627e+00</td>\n",
       "      <td>-1.029540e+01</td>\n",
       "      <td>-2.604551e+00</td>\n",
       "      <td>-2.256568e+01</td>\n",
       "      <td>-1.543008e+01</td>\n",
       "      <td>0.000000</td>\n",
       "      <td>0.000000</td>\n",
       "    </tr>\n",
       "    <tr>\n",
       "      <th>25%</th>\n",
       "      <td>54201.500000</td>\n",
       "      <td>-9.203734e-01</td>\n",
       "      <td>-5.985499e-01</td>\n",
       "      <td>-8.903648e-01</td>\n",
       "      <td>-8.486401e-01</td>\n",
       "      <td>-6.915971e-01</td>\n",
       "      <td>-7.682956e-01</td>\n",
       "      <td>-5.540759e-01</td>\n",
       "      <td>-2.086297e-01</td>\n",
       "      <td>-6.430976e-01</td>\n",
       "      <td>...</td>\n",
       "      <td>-2.283949e-01</td>\n",
       "      <td>-5.423504e-01</td>\n",
       "      <td>-1.618463e-01</td>\n",
       "      <td>-3.545861e-01</td>\n",
       "      <td>-3.171451e-01</td>\n",
       "      <td>-3.269839e-01</td>\n",
       "      <td>-7.083953e-02</td>\n",
       "      <td>-5.295979e-02</td>\n",
       "      <td>5.600000</td>\n",
       "      <td>0.000000</td>\n",
       "    </tr>\n",
       "    <tr>\n",
       "      <th>50%</th>\n",
       "      <td>84692.000000</td>\n",
       "      <td>1.810880e-02</td>\n",
       "      <td>6.548556e-02</td>\n",
       "      <td>1.798463e-01</td>\n",
       "      <td>-1.984653e-02</td>\n",
       "      <td>-5.433583e-02</td>\n",
       "      <td>-2.741871e-01</td>\n",
       "      <td>4.010308e-02</td>\n",
       "      <td>2.235804e-02</td>\n",
       "      <td>-5.142873e-02</td>\n",
       "      <td>...</td>\n",
       "      <td>-2.945017e-02</td>\n",
       "      <td>6.781943e-03</td>\n",
       "      <td>-1.119293e-02</td>\n",
       "      <td>4.097606e-02</td>\n",
       "      <td>1.659350e-02</td>\n",
       "      <td>-5.213911e-02</td>\n",
       "      <td>1.342146e-03</td>\n",
       "      <td>1.124383e-02</td>\n",
       "      <td>22.000000</td>\n",
       "      <td>0.000000</td>\n",
       "    </tr>\n",
       "    <tr>\n",
       "      <th>75%</th>\n",
       "      <td>139320.500000</td>\n",
       "      <td>1.315642e+00</td>\n",
       "      <td>8.037239e-01</td>\n",
       "      <td>1.027196e+00</td>\n",
       "      <td>7.433413e-01</td>\n",
       "      <td>6.119264e-01</td>\n",
       "      <td>3.985649e-01</td>\n",
       "      <td>5.704361e-01</td>\n",
       "      <td>3.273459e-01</td>\n",
       "      <td>5.971390e-01</td>\n",
       "      <td>...</td>\n",
       "      <td>1.863772e-01</td>\n",
       "      <td>5.285536e-01</td>\n",
       "      <td>1.476421e-01</td>\n",
       "      <td>4.395266e-01</td>\n",
       "      <td>3.507156e-01</td>\n",
       "      <td>2.409522e-01</td>\n",
       "      <td>9.104512e-02</td>\n",
       "      <td>7.827995e-02</td>\n",
       "      <td>77.165000</td>\n",
       "      <td>0.000000</td>\n",
       "    </tr>\n",
       "    <tr>\n",
       "      <th>max</th>\n",
       "      <td>172792.000000</td>\n",
       "      <td>2.454930e+00</td>\n",
       "      <td>2.205773e+01</td>\n",
       "      <td>9.382558e+00</td>\n",
       "      <td>1.687534e+01</td>\n",
       "      <td>3.480167e+01</td>\n",
       "      <td>7.330163e+01</td>\n",
       "      <td>1.205895e+02</td>\n",
       "      <td>2.000721e+01</td>\n",
       "      <td>1.559499e+01</td>\n",
       "      <td>...</td>\n",
       "      <td>2.720284e+01</td>\n",
       "      <td>1.050309e+01</td>\n",
       "      <td>2.252841e+01</td>\n",
       "      <td>4.584549e+00</td>\n",
       "      <td>7.519589e+00</td>\n",
       "      <td>3.517346e+00</td>\n",
       "      <td>3.161220e+01</td>\n",
       "      <td>3.384781e+01</td>\n",
       "      <td>25691.160000</td>\n",
       "      <td>1.000000</td>\n",
       "    </tr>\n",
       "  </tbody>\n",
       "</table>\n",
       "<p>8 rows × 31 columns</p>\n",
       "</div>"
      ],
      "text/plain": [
       "                Time            V1            V2            V3            V4  \\\n",
       "count  284807.000000  2.848070e+05  2.848070e+05  2.848070e+05  2.848070e+05   \n",
       "mean    94813.859575  1.165980e-15  3.416908e-16 -1.373150e-15  2.086869e-15   \n",
       "std     47488.145955  1.958696e+00  1.651309e+00  1.516255e+00  1.415869e+00   \n",
       "min         0.000000 -5.640751e+01 -7.271573e+01 -4.832559e+01 -5.683171e+00   \n",
       "25%     54201.500000 -9.203734e-01 -5.985499e-01 -8.903648e-01 -8.486401e-01   \n",
       "50%     84692.000000  1.810880e-02  6.548556e-02  1.798463e-01 -1.984653e-02   \n",
       "75%    139320.500000  1.315642e+00  8.037239e-01  1.027196e+00  7.433413e-01   \n",
       "max    172792.000000  2.454930e+00  2.205773e+01  9.382558e+00  1.687534e+01   \n",
       "\n",
       "                 V5            V6            V7            V8            V9  \\\n",
       "count  2.848070e+05  2.848070e+05  2.848070e+05  2.848070e+05  2.848070e+05   \n",
       "mean   9.604066e-16  1.490107e-15 -5.556467e-16  1.177556e-16 -2.406455e-15   \n",
       "std    1.380247e+00  1.332271e+00  1.237094e+00  1.194353e+00  1.098632e+00   \n",
       "min   -1.137433e+02 -2.616051e+01 -4.355724e+01 -7.321672e+01 -1.343407e+01   \n",
       "25%   -6.915971e-01 -7.682956e-01 -5.540759e-01 -2.086297e-01 -6.430976e-01   \n",
       "50%   -5.433583e-02 -2.741871e-01  4.010308e-02  2.235804e-02 -5.142873e-02   \n",
       "75%    6.119264e-01  3.985649e-01  5.704361e-01  3.273459e-01  5.971390e-01   \n",
       "max    3.480167e+01  7.330163e+01  1.205895e+02  2.000721e+01  1.559499e+01   \n",
       "\n",
       "       ...           V21           V22           V23           V24  \\\n",
       "count  ...  2.848070e+05  2.848070e+05  2.848070e+05  2.848070e+05   \n",
       "mean   ...  1.656562e-16 -3.444850e-16  2.578648e-16  4.471968e-15   \n",
       "std    ...  7.345240e-01  7.257016e-01  6.244603e-01  6.056471e-01   \n",
       "min    ... -3.483038e+01 -1.093314e+01 -4.480774e+01 -2.836627e+00   \n",
       "25%    ... -2.283949e-01 -5.423504e-01 -1.618463e-01 -3.545861e-01   \n",
       "50%    ... -2.945017e-02  6.781943e-03 -1.119293e-02  4.097606e-02   \n",
       "75%    ...  1.863772e-01  5.285536e-01  1.476421e-01  4.395266e-01   \n",
       "max    ...  2.720284e+01  1.050309e+01  2.252841e+01  4.584549e+00   \n",
       "\n",
       "                V25           V26           V27           V28         Amount  \\\n",
       "count  2.848070e+05  2.848070e+05  2.848070e+05  2.848070e+05  284807.000000   \n",
       "mean   5.340915e-16  1.687098e-15 -3.666453e-16 -1.220404e-16      88.349619   \n",
       "std    5.212781e-01  4.822270e-01  4.036325e-01  3.300833e-01     250.120109   \n",
       "min   -1.029540e+01 -2.604551e+00 -2.256568e+01 -1.543008e+01       0.000000   \n",
       "25%   -3.171451e-01 -3.269839e-01 -7.083953e-02 -5.295979e-02       5.600000   \n",
       "50%    1.659350e-02 -5.213911e-02  1.342146e-03  1.124383e-02      22.000000   \n",
       "75%    3.507156e-01  2.409522e-01  9.104512e-02  7.827995e-02      77.165000   \n",
       "max    7.519589e+00  3.517346e+00  3.161220e+01  3.384781e+01   25691.160000   \n",
       "\n",
       "               Class  \n",
       "count  284807.000000  \n",
       "mean        0.001727  \n",
       "std         0.041527  \n",
       "min         0.000000  \n",
       "25%         0.000000  \n",
       "50%         0.000000  \n",
       "75%         0.000000  \n",
       "max         1.000000  \n",
       "\n",
       "[8 rows x 31 columns]"
      ]
     },
     "execution_count": 4,
     "metadata": {},
     "output_type": "execute_result"
    }
   ],
   "source": [
    "df.describe()"
   ]
  },
  {
   "cell_type": "code",
   "execution_count": 5,
   "metadata": {},
   "outputs": [
    {
     "data": {
      "text/plain": [
       "Time      0\n",
       "V1        0\n",
       "V2        0\n",
       "V3        0\n",
       "V4        0\n",
       "V5        0\n",
       "V6        0\n",
       "V7        0\n",
       "V8        0\n",
       "V9        0\n",
       "V10       0\n",
       "V11       0\n",
       "V12       0\n",
       "V13       0\n",
       "V14       0\n",
       "V15       0\n",
       "V16       0\n",
       "V17       0\n",
       "V18       0\n",
       "V19       0\n",
       "V20       0\n",
       "V21       0\n",
       "V22       0\n",
       "V23       0\n",
       "V24       0\n",
       "V25       0\n",
       "V26       0\n",
       "V27       0\n",
       "V28       0\n",
       "Amount    0\n",
       "Class     0\n",
       "dtype: int64"
      ]
     },
     "execution_count": 5,
     "metadata": {},
     "output_type": "execute_result"
    }
   ],
   "source": [
    "df.isnull().sum()"
   ]
  },
  {
   "cell_type": "markdown",
   "metadata": {},
   "source": [
    "Good, no nulls in our dataset"
   ]
  },
  {
   "cell_type": "code",
   "execution_count": 6,
   "metadata": {},
   "outputs": [
    {
     "name": "stdout",
     "output_type": "stream",
     "text": [
      "<class 'pandas.core.frame.DataFrame'>\n",
      "RangeIndex: 284807 entries, 0 to 284806\n",
      "Data columns (total 31 columns):\n",
      "Time      284807 non-null float64\n",
      "V1        284807 non-null float64\n",
      "V2        284807 non-null float64\n",
      "V3        284807 non-null float64\n",
      "V4        284807 non-null float64\n",
      "V5        284807 non-null float64\n",
      "V6        284807 non-null float64\n",
      "V7        284807 non-null float64\n",
      "V8        284807 non-null float64\n",
      "V9        284807 non-null float64\n",
      "V10       284807 non-null float64\n",
      "V11       284807 non-null float64\n",
      "V12       284807 non-null float64\n",
      "V13       284807 non-null float64\n",
      "V14       284807 non-null float64\n",
      "V15       284807 non-null float64\n",
      "V16       284807 non-null float64\n",
      "V17       284807 non-null float64\n",
      "V18       284807 non-null float64\n",
      "V19       284807 non-null float64\n",
      "V20       284807 non-null float64\n",
      "V21       284807 non-null float64\n",
      "V22       284807 non-null float64\n",
      "V23       284807 non-null float64\n",
      "V24       284807 non-null float64\n",
      "V25       284807 non-null float64\n",
      "V26       284807 non-null float64\n",
      "V27       284807 non-null float64\n",
      "V28       284807 non-null float64\n",
      "Amount    284807 non-null float64\n",
      "Class     284807 non-null int64\n",
      "dtypes: float64(30), int64(1)\n",
      "memory usage: 67.4 MB\n"
     ]
    }
   ],
   "source": [
    "df.info()"
   ]
  },
  {
   "cell_type": "code",
   "execution_count": 7,
   "metadata": {},
   "outputs": [
    {
     "data": {
      "text/plain": [
       "<matplotlib.axes._subplots.AxesSubplot at 0x18358579448>"
      ]
     },
     "execution_count": 7,
     "metadata": {},
     "output_type": "execute_result"
    },
    {
     "data": {
      "image/png": "[encoded data removed]",
      "text/plain": [
       "<Figure size 432x288 with 1 Axes>"
      ]
     },
     "metadata": {
      "needs_background": "light"
     },
     "output_type": "display_data"
    }
   ],
   "source": [
    "df['Class'].hist()"
   ]
  },
  {
   "cell_type": "code",
   "execution_count": 8,
   "metadata": {},
   "outputs": [
    {
     "data": {
      "text/plain": [
       "0    284315\n",
       "1       492\n",
       "Name: Class, dtype: int64"
      ]
     },
     "execution_count": 8,
     "metadata": {},
     "output_type": "execute_result"
    }
   ],
   "source": [
    "df['Class'].value_counts()"
   ]
  },
  {
   "cell_type": "markdown",
   "metadata": {},
   "source": [
    "We have a very unbalanced dataset for target variable **Class**"
   ]
  },
  {
   "cell_type": "code",
   "execution_count": 9,
   "metadata": {},
   "outputs": [
    {
     "data": {
      "text/plain": [
       "Class\n",
       "0     88.291022\n",
       "1    122.211321\n",
       "Name: Amount, dtype: float64"
      ]
     },
     "execution_count": 9,
     "metadata": {},
     "output_type": "execute_result"
    }
   ],
   "source": [
    "df.groupby('Class').mean()['Amount']"
   ]
  },
  {
   "cell_type": "markdown",
   "metadata": {},
   "source": [
    "We note that transaccions with fraud have a mean of Amount of almost 50% "
   ]
  },
  {
   "cell_type": "code",
   "execution_count": 10,
   "metadata": {},
   "outputs": [
    {
     "data": {
      "text/plain": [
       "<matplotlib.axes._subplots.AxesSubplot at 0x183586c6d88>"
      ]
     },
     "execution_count": 10,
     "metadata": {},
     "output_type": "execute_result"
    },
    {
     "data": {
      "image/png": "[encoded data removed]",
      "text/plain": [
       "<Figure size 432x288 with 1 Axes>"
      ]
     },
     "metadata": {
      "needs_background": "light"
     },
     "output_type": "display_data"
    }
   ],
   "source": [
    "df[df['Class'] == 1]['Amount'].hist(bins=50)"
   ]
  },
  {
   "cell_type": "markdown",
   "metadata": {},
   "source": [
    "Let's check distributions of amount for each class. Remember that 0 class equals 'No fraud' and 1 Class equals 'Fraud'."
   ]
  },
  {
   "cell_type": "code",
   "execution_count": 11,
   "metadata": {},
   "outputs": [
    {
     "data": {
      "text/plain": [
       "Class\n",
       "0    AxesSubplot(0.125,0.125;0.775x0.755)\n",
       "1    AxesSubplot(0.125,0.125;0.775x0.755)\n",
       "Name: Amount, dtype: object"
      ]
     },
     "execution_count": 11,
     "metadata": {},
     "output_type": "execute_result"
    },
    {
     "data": {
      "image/png": "[encoded data removed]",
      "text/plain": [
       "<Figure size 1080x720 with 1 Axes>"
      ]
     },
     "metadata": {
      "needs_background": "light"
     },
     "output_type": "display_data"
    }
   ],
   "source": [
    "df.groupby(\"Class\").Amount.plot(kind='kde', figsize=(15,10))"
   ]
  },
  {
   "cell_type": "markdown",
   "metadata": {},
   "source": [
    "We note density for class 1 is pretty higher in lower values. Let's make some other comparisons to verify that:"
   ]
  },
  {
   "cell_type": "code",
   "execution_count": 12,
   "metadata": {},
   "outputs": [
    {
     "data": {
      "text/html": [
       "<div>\n",
       "<style scoped>\n",
       "    .dataframe tbody tr th:only-of-type {\n",
       "        vertical-align: middle;\n",
       "    }\n",
       "\n",
       "    .dataframe tbody tr th {\n",
       "        vertical-align: top;\n",
       "    }\n",
       "\n",
       "    .dataframe thead th {\n",
       "        text-align: right;\n",
       "    }\n",
       "</style>\n",
       "<table border=\"1\" class=\"dataframe\">\n",
       "  <thead>\n",
       "    <tr style=\"text-align: right;\">\n",
       "      <th></th>\n",
       "      <th>count</th>\n",
       "      <th>mean</th>\n",
       "      <th>std</th>\n",
       "      <th>min</th>\n",
       "      <th>25%</th>\n",
       "      <th>50%</th>\n",
       "      <th>75%</th>\n",
       "      <th>max</th>\n",
       "    </tr>\n",
       "    <tr>\n",
       "      <th>Class</th>\n",
       "      <th></th>\n",
       "      <th></th>\n",
       "      <th></th>\n",
       "      <th></th>\n",
       "      <th></th>\n",
       "      <th></th>\n",
       "      <th></th>\n",
       "      <th></th>\n",
       "    </tr>\n",
       "  </thead>\n",
       "  <tbody>\n",
       "    <tr>\n",
       "      <th>0</th>\n",
       "      <td>284315.0</td>\n",
       "      <td>88.291022</td>\n",
       "      <td>250.105092</td>\n",
       "      <td>0.0</td>\n",
       "      <td>5.65</td>\n",
       "      <td>22.00</td>\n",
       "      <td>77.05</td>\n",
       "      <td>25691.16</td>\n",
       "    </tr>\n",
       "    <tr>\n",
       "      <th>1</th>\n",
       "      <td>492.0</td>\n",
       "      <td>122.211321</td>\n",
       "      <td>256.683288</td>\n",
       "      <td>0.0</td>\n",
       "      <td>1.00</td>\n",
       "      <td>9.25</td>\n",
       "      <td>105.89</td>\n",
       "      <td>2125.87</td>\n",
       "    </tr>\n",
       "  </tbody>\n",
       "</table>\n",
       "</div>"
      ],
      "text/plain": [
       "          count        mean         std  min   25%    50%     75%       max\n",
       "Class                                                                      \n",
       "0      284315.0   88.291022  250.105092  0.0  5.65  22.00   77.05  25691.16\n",
       "1         492.0  122.211321  256.683288  0.0  1.00   9.25  105.89   2125.87"
      ]
     },
     "execution_count": 12,
     "metadata": {},
     "output_type": "execute_result"
    }
   ],
   "source": [
    "df.groupby(\"Class\").Amount.describe()"
   ]
  },
  {
   "cell_type": "code",
   "execution_count": 13,
   "metadata": {},
   "outputs": [
    {
     "data": {
      "text/plain": [
       "<matplotlib.axes._subplots.AxesSubplot at 0x18359a42bc8>"
      ]
     },
     "execution_count": 13,
     "metadata": {},
     "output_type": "execute_result"
    },
    {
     "data": {
      "image/png": "[encoded data removed]",
      "text/plain": [
       "<Figure size 720x576 with 1 Axes>"
      ]
     },
     "metadata": {
      "needs_background": "light"
     },
     "output_type": "display_data"
    }
   ],
   "source": [
    "df.boxplot(by=\"Class\", column = \"Amount\", figsize=(10,8))"
   ]
  },
  {
   "cell_type": "code",
   "execution_count": 14,
   "metadata": {},
   "outputs": [
    {
     "data": {
      "text/plain": [
       "array([[<matplotlib.axes._subplots.AxesSubplot object at 0x0000018358D61F08>]],\n",
       "      dtype=object)"
      ]
     },
     "execution_count": 14,
     "metadata": {},
     "output_type": "execute_result"
    },
    {
     "data": {
      "image/png": "[encoded data removed]",
      "text/plain": [
       "<Figure size 432x288 with 1 Axes>"
      ]
     },
     "metadata": {
      "needs_background": "light"
     },
     "output_type": "display_data"
    }
   ],
   "source": [
    "#Let's check the time now. Note that Time is computed in seconds\n",
    "df.hist(column=\"Time\")"
   ]
  },
  {
   "cell_type": "markdown",
   "metadata": {},
   "source": [
    "Let's split our dataframe in two datasets to analyze them, depending on its class."
   ]
  },
  {
   "cell_type": "code",
   "execution_count": 15,
   "metadata": {},
   "outputs": [],
   "source": [
    "fraud=df[df[\"Class\"]==1]"
   ]
  },
  {
   "cell_type": "code",
   "execution_count": 16,
   "metadata": {},
   "outputs": [],
   "source": [
    "no_fraud=df[df[\"Class\"]==0]"
   ]
  },
  {
   "cell_type": "code",
   "execution_count": 17,
   "metadata": {},
   "outputs": [
    {
     "name": "stdout",
     "output_type": "stream",
     "text": [
      "Fraud Cases:492\n",
      "No Fraud Cases:284315\n"
     ]
    }
   ],
   "source": [
    "print(\"Fraud Cases:{}\".format(len(fraud)))\n",
    "print(\"No Fraud Cases:{}\".format(len(no_fraud)))"
   ]
  },
  {
   "cell_type": "code",
   "execution_count": 18,
   "metadata": {},
   "outputs": [
    {
     "name": "stdout",
     "output_type": "stream",
     "text": [
      "% Percentage of cases: 0.17%\n"
     ]
    }
   ],
   "source": [
    "print(\"% Percentage of cases: {}%\".format(round(len(fraud)/len(df)*100,2)))"
   ]
  },
  {
   "cell_type": "markdown",
   "metadata": {},
   "source": [
    "Let's try to delete outliers to have a more robust model. Let's first be careful and not delete rows that have fraud"
   ]
  },
  {
   "cell_type": "code",
   "execution_count": 19,
   "metadata": {},
   "outputs": [
    {
     "data": {
      "text/plain": [
       "440"
      ]
     },
     "execution_count": 19,
     "metadata": {},
     "output_type": "execute_result"
    }
   ],
   "source": [
    "#Number of rows with amount higuer that 2500 and not being a fraud\n",
    "df[(df[\"Amount\"]>2500) & (df[\"Class\"]==0)].shape[0]"
   ]
  },
  {
   "cell_type": "code",
   "execution_count": 20,
   "metadata": {},
   "outputs": [],
   "source": [
    "df.drop(df[(df[\"Amount\"]>2500) & (df[\"Class\"]==0)].index, axis=0, inplace=True)"
   ]
  },
  {
   "cell_type": "code",
   "execution_count": 21,
   "metadata": {},
   "outputs": [
    {
     "data": {
      "text/plain": [
       "(284367, 31)"
      ]
     },
     "execution_count": 21,
     "metadata": {},
     "output_type": "execute_result"
    }
   ],
   "source": [
    "df.shape"
   ]
  },
  {
   "cell_type": "markdown",
   "metadata": {},
   "source": [
    "We have all variables except the amount scaled. Let's then apply MinMaxScaler to the Amount in order not to influence or bias our regression algorithm."
   ]
  },
  {
   "cell_type": "code",
   "execution_count": 22,
   "metadata": {},
   "outputs": [],
   "source": [
    "from sklearn.preprocessing import LabelEncoder, MinMaxScaler, StandardScaler\n",
    "\n",
    "minMaxResult=MinMaxScaler()"
   ]
  },
  {
   "cell_type": "code",
   "execution_count": 23,
   "metadata": {},
   "outputs": [],
   "source": [
    "df['Amount'] = minMaxResult.fit_transform(df['Amount'].values.reshape(-1,1))"
   ]
  },
  {
   "cell_type": "code",
   "execution_count": 24,
   "metadata": {},
   "outputs": [
    {
     "data": {
      "text/html": [
       "<div>\n",
       "<style scoped>\n",
       "    .dataframe tbody tr th:only-of-type {\n",
       "        vertical-align: middle;\n",
       "    }\n",
       "\n",
       "    .dataframe tbody tr th {\n",
       "        vertical-align: top;\n",
       "    }\n",
       "\n",
       "    .dataframe thead th {\n",
       "        text-align: right;\n",
       "    }\n",
       "</style>\n",
       "<table border=\"1\" class=\"dataframe\">\n",
       "  <thead>\n",
       "    <tr style=\"text-align: right;\">\n",
       "      <th></th>\n",
       "      <th>Time</th>\n",
       "      <th>V1</th>\n",
       "      <th>V2</th>\n",
       "      <th>V3</th>\n",
       "      <th>V4</th>\n",
       "      <th>V5</th>\n",
       "      <th>V6</th>\n",
       "      <th>V7</th>\n",
       "      <th>V8</th>\n",
       "      <th>V9</th>\n",
       "      <th>...</th>\n",
       "      <th>V21</th>\n",
       "      <th>V22</th>\n",
       "      <th>V23</th>\n",
       "      <th>V24</th>\n",
       "      <th>V25</th>\n",
       "      <th>V26</th>\n",
       "      <th>V27</th>\n",
       "      <th>V28</th>\n",
       "      <th>Amount</th>\n",
       "      <th>Class</th>\n",
       "    </tr>\n",
       "  </thead>\n",
       "  <tbody>\n",
       "    <tr>\n",
       "      <th>0</th>\n",
       "      <td>0.0</td>\n",
       "      <td>-1.359807</td>\n",
       "      <td>-0.072781</td>\n",
       "      <td>2.536347</td>\n",
       "      <td>1.378155</td>\n",
       "      <td>-0.338321</td>\n",
       "      <td>0.462388</td>\n",
       "      <td>0.239599</td>\n",
       "      <td>0.098698</td>\n",
       "      <td>0.363787</td>\n",
       "      <td>...</td>\n",
       "      <td>-0.018307</td>\n",
       "      <td>0.277838</td>\n",
       "      <td>-0.110474</td>\n",
       "      <td>0.066928</td>\n",
       "      <td>0.128539</td>\n",
       "      <td>-0.189115</td>\n",
       "      <td>0.133558</td>\n",
       "      <td>-0.021053</td>\n",
       "      <td>0.059848</td>\n",
       "      <td>0</td>\n",
       "    </tr>\n",
       "    <tr>\n",
       "      <th>1</th>\n",
       "      <td>0.0</td>\n",
       "      <td>1.191857</td>\n",
       "      <td>0.266151</td>\n",
       "      <td>0.166480</td>\n",
       "      <td>0.448154</td>\n",
       "      <td>0.060018</td>\n",
       "      <td>-0.082361</td>\n",
       "      <td>-0.078803</td>\n",
       "      <td>0.085102</td>\n",
       "      <td>-0.255425</td>\n",
       "      <td>...</td>\n",
       "      <td>-0.225775</td>\n",
       "      <td>-0.638672</td>\n",
       "      <td>0.101288</td>\n",
       "      <td>-0.339846</td>\n",
       "      <td>0.167170</td>\n",
       "      <td>0.125895</td>\n",
       "      <td>-0.008983</td>\n",
       "      <td>0.014724</td>\n",
       "      <td>0.001076</td>\n",
       "      <td>0</td>\n",
       "    </tr>\n",
       "    <tr>\n",
       "      <th>2</th>\n",
       "      <td>1.0</td>\n",
       "      <td>-1.358354</td>\n",
       "      <td>-1.340163</td>\n",
       "      <td>1.773209</td>\n",
       "      <td>0.379780</td>\n",
       "      <td>-0.503198</td>\n",
       "      <td>1.800499</td>\n",
       "      <td>0.791461</td>\n",
       "      <td>0.247676</td>\n",
       "      <td>-1.514654</td>\n",
       "      <td>...</td>\n",
       "      <td>0.247998</td>\n",
       "      <td>0.771679</td>\n",
       "      <td>0.909412</td>\n",
       "      <td>-0.689281</td>\n",
       "      <td>-0.327642</td>\n",
       "      <td>-0.139097</td>\n",
       "      <td>-0.055353</td>\n",
       "      <td>-0.059752</td>\n",
       "      <td>0.151464</td>\n",
       "      <td>0</td>\n",
       "    </tr>\n",
       "    <tr>\n",
       "      <th>3</th>\n",
       "      <td>1.0</td>\n",
       "      <td>-0.966272</td>\n",
       "      <td>-0.185226</td>\n",
       "      <td>1.792993</td>\n",
       "      <td>-0.863291</td>\n",
       "      <td>-0.010309</td>\n",
       "      <td>1.247203</td>\n",
       "      <td>0.237609</td>\n",
       "      <td>0.377436</td>\n",
       "      <td>-1.387024</td>\n",
       "      <td>...</td>\n",
       "      <td>-0.108300</td>\n",
       "      <td>0.005274</td>\n",
       "      <td>-0.190321</td>\n",
       "      <td>-1.175575</td>\n",
       "      <td>0.647376</td>\n",
       "      <td>-0.221929</td>\n",
       "      <td>0.062723</td>\n",
       "      <td>0.061458</td>\n",
       "      <td>0.049400</td>\n",
       "      <td>0</td>\n",
       "    </tr>\n",
       "    <tr>\n",
       "      <th>4</th>\n",
       "      <td>2.0</td>\n",
       "      <td>-1.158233</td>\n",
       "      <td>0.877737</td>\n",
       "      <td>1.548718</td>\n",
       "      <td>0.403034</td>\n",
       "      <td>-0.407193</td>\n",
       "      <td>0.095921</td>\n",
       "      <td>0.592941</td>\n",
       "      <td>-0.270533</td>\n",
       "      <td>0.817739</td>\n",
       "      <td>...</td>\n",
       "      <td>-0.009431</td>\n",
       "      <td>0.798278</td>\n",
       "      <td>-0.137458</td>\n",
       "      <td>0.141267</td>\n",
       "      <td>-0.206010</td>\n",
       "      <td>0.502292</td>\n",
       "      <td>0.219422</td>\n",
       "      <td>0.215153</td>\n",
       "      <td>0.027996</td>\n",
       "      <td>0</td>\n",
       "    </tr>\n",
       "  </tbody>\n",
       "</table>\n",
       "<p>5 rows × 31 columns</p>\n",
       "</div>"
      ],
      "text/plain": [
       "   Time        V1        V2        V3        V4        V5        V6        V7  \\\n",
       "0   0.0 -1.359807 -0.072781  2.536347  1.378155 -0.338321  0.462388  0.239599   \n",
       "1   0.0  1.191857  0.266151  0.166480  0.448154  0.060018 -0.082361 -0.078803   \n",
       "2   1.0 -1.358354 -1.340163  1.773209  0.379780 -0.503198  1.800499  0.791461   \n",
       "3   1.0 -0.966272 -0.185226  1.792993 -0.863291 -0.010309  1.247203  0.237609   \n",
       "4   2.0 -1.158233  0.877737  1.548718  0.403034 -0.407193  0.095921  0.592941   \n",
       "\n",
       "         V8        V9  ...       V21       V22       V23       V24       V25  \\\n",
       "0  0.098698  0.363787  ... -0.018307  0.277838 -0.110474  0.066928  0.128539   \n",
       "1  0.085102 -0.255425  ... -0.225775 -0.638672  0.101288 -0.339846  0.167170   \n",
       "2  0.247676 -1.514654  ...  0.247998  0.771679  0.909412 -0.689281 -0.327642   \n",
       "3  0.377436 -1.387024  ... -0.108300  0.005274 -0.190321 -1.175575  0.647376   \n",
       "4 -0.270533  0.817739  ... -0.009431  0.798278 -0.137458  0.141267 -0.206010   \n",
       "\n",
       "        V26       V27       V28    Amount  Class  \n",
       "0 -0.189115  0.133558 -0.021053  0.059848      0  \n",
       "1  0.125895 -0.008983  0.014724  0.001076      0  \n",
       "2 -0.139097 -0.055353 -0.059752  0.151464      0  \n",
       "3 -0.221929  0.062723  0.061458  0.049400      0  \n",
       "4  0.502292  0.219422  0.215153  0.027996      0  \n",
       "\n",
       "[5 rows x 31 columns]"
      ]
     },
     "execution_count": 24,
     "metadata": {},
     "output_type": "execute_result"
    }
   ],
   "source": [
    "df.head()"
   ]
  },
  {
   "cell_type": "code",
   "execution_count": 25,
   "metadata": {},
   "outputs": [
    {
     "data": {
      "text/plain": [
       "<matplotlib.axes._subplots.AxesSubplot at 0x18358d23348>"
      ]
     },
     "execution_count": 25,
     "metadata": {},
     "output_type": "execute_result"
    },
    {
     "data": {
      "image/png": "[encoded data removed]",
      "text/plain": [
       "<Figure size 432x288 with 1 Axes>"
      ]
     },
     "metadata": {
      "needs_background": "light"
     },
     "output_type": "display_data"
    }
   ],
   "source": [
    "#Let's check results of MinMax  scaling\n",
    "df['Amount'].hist(bins=20)"
   ]
  },
  {
   "cell_type": "code",
   "execution_count": 26,
   "metadata": {},
   "outputs": [],
   "source": [
    "# Before modelling, let's drop the time feature because it does not influence in fraud (in our example)\n",
    "df.drop(\"Time\", axis =1, inplace = True)"
   ]
  },
  {
   "cell_type": "markdown",
   "metadata": {},
   "source": [
    "## Modeling"
   ]
  },
  {
   "cell_type": "markdown",
   "metadata": {},
   "source": [
    "Splitting first between train and test split"
   ]
  },
  {
   "cell_type": "code",
   "execution_count": 27,
   "metadata": {},
   "outputs": [],
   "source": [
    "X = df.drop(['Class'],axis=1) # INDEPENDENT VARIABLES\n",
    "y = df[['Class']] #  VARIABLE TO PREDICT\n",
    "\n",
    "X_train, X_test, y_train, y_test = train_test_split(X,y,test_size=0.3, random_state=23)"
   ]
  },
  {
   "cell_type": "code",
   "execution_count": 28,
   "metadata": {},
   "outputs": [
    {
     "data": {
      "text/plain": [
       "323"
      ]
     },
     "execution_count": 28,
     "metadata": {},
     "output_type": "execute_result"
    }
   ],
   "source": [
    "y_train[y_train[\"Class\"]==1].shape[0]"
   ]
  },
  {
   "cell_type": "markdown",
   "metadata": {},
   "source": [
    "- **Approach 1: Linear Regression model**"
   ]
  },
  {
   "cell_type": "code",
   "execution_count": 29,
   "metadata": {},
   "outputs": [
    {
     "data": {
      "text/plain": [
       "LogisticRegression(C=1.0, class_weight=None, dual=False, fit_intercept=True,\n",
       "                   intercept_scaling=1, l1_ratio=None, max_iter=100,\n",
       "                   multi_class='auto', n_jobs=None, penalty='l2',\n",
       "                   random_state=None, solver='liblinear', tol=0.0001, verbose=0,\n",
       "                   warm_start=False)"
      ]
     },
     "execution_count": 29,
     "metadata": {},
     "output_type": "execute_result"
    }
   ],
   "source": [
    "# instanciating linear regression model\n",
    "lr = LogisticRegression(solver=\"liblinear\")\n",
    "\n",
    "# training the model\n",
    "lr.fit(X_train, y_train.values.ravel())"
   ]
  },
  {
   "cell_type": "code",
   "execution_count": 30,
   "metadata": {},
   "outputs": [],
   "source": [
    "# making predictions\n",
    "y_pred_lr = lr.predict(X_test)"
   ]
  },
  {
   "cell_type": "code",
   "execution_count": 31,
   "metadata": {},
   "outputs": [
    {
     "data": {
      "text/plain": [
       "array([0, 0, 0, ..., 0, 0, 0], dtype=int64)"
      ]
     },
     "execution_count": 31,
     "metadata": {},
     "output_type": "execute_result"
    }
   ],
   "source": [
    "y_pred_lr"
   ]
  },
  {
   "cell_type": "markdown",
   "metadata": {},
   "source": [
    "- **Approach 2: Random Forest Classifier**"
   ]
  },
  {
   "cell_type": "code",
   "execution_count": 32,
   "metadata": {
    "scrolled": true
   },
   "outputs": [
    {
     "data": {
      "text/plain": [
       "RandomForestClassifier(bootstrap=True, ccp_alpha=0.0, class_weight=None,\n",
       "                       criterion='gini', max_depth=None, max_features='auto',\n",
       "                       max_leaf_nodes=None, max_samples=None,\n",
       "                       min_impurity_decrease=0.0, min_impurity_split=None,\n",
       "                       min_samples_leaf=1, min_samples_split=2,\n",
       "                       min_weight_fraction_leaf=0.0, n_estimators=10,\n",
       "                       n_jobs=None, oob_score=False, random_state=None,\n",
       "                       verbose=0, warm_start=False)"
      ]
     },
     "execution_count": 32,
     "metadata": {},
     "output_type": "execute_result"
    }
   ],
   "source": [
    "# instanciating random forest classifier\n",
    "rfc = RandomForestClassifier(n_estimators = 10)\n",
    "\n",
    "# training the model\n",
    "rfc.fit(X_train, y_train.values.ravel())"
   ]
  },
  {
   "cell_type": "code",
   "execution_count": 33,
   "metadata": {},
   "outputs": [],
   "source": [
    "# making predictions\n",
    "y_pred_rfc = rfc.predict(X_test)"
   ]
  },
  {
   "cell_type": "markdown",
   "metadata": {},
   "source": [
    "### Let's take a look to the scores and confusion matrix of predicted versus observed values"
   ]
  },
  {
   "cell_type": "markdown",
   "metadata": {},
   "source": [
    "For approach 1, Linear Regression:"
   ]
  },
  {
   "cell_type": "code",
   "execution_count": 34,
   "metadata": {},
   "outputs": [
    {
     "name": "stdout",
     "output_type": "stream",
     "text": [
      "Accuracy of the model = 0.999\n",
      "Precision of the model = 0.897\n",
      "Recall of the model = 0.669\n"
     ]
    }
   ],
   "source": [
    "# Checking accuracy, precision and recall. \n",
    "#TP= True Positive, FP= False Positive, TN = True Negative, FN = False Negative\n",
    "\n",
    "accuracy = accuracy_score (y_test, y_pred_lr)  # (TP + TN) / (TP+TN+FP+FN)\n",
    "print(\"Accuracy of the model = {}\".format(round(accuracy,3)))\n",
    "\n",
    "precision = precision_score(y_test, y_pred_lr) # (TP)/(TP+FP)\n",
    "print(\"Precision of the model = {}\".format(round(precision,3)))\n",
    "\n",
    "\n",
    "recall = recall_score(y_test, y_pred_lr) # (TP)/(TP+FN)\n",
    "print(\"Recall of the model = {}\".format(round(recall,3)))"
   ]
  },
  {
   "cell_type": "code",
   "execution_count": 35,
   "metadata": {},
   "outputs": [
    {
     "name": "stdout",
     "output_type": "stream",
     "text": [
      "f1 score of the model = 0.766\n"
     ]
    }
   ],
   "source": [
    "#f1 score (harmonic mean of precision and recall = 2* (precision*recall)/(precision+recall))\n",
    "f1 = f1_score(y_test, y_pred_lr) \n",
    "print(\"f1 score of the model = {}\".format(round(f1,3)))"
   ]
  },
  {
   "cell_type": "code",
   "execution_count": 36,
   "metadata": {},
   "outputs": [
    {
     "data": {
      "text/plain": [
       "array([[  113,    13],\n",
       "       [   56, 85129]], dtype=int64)"
      ]
     },
     "execution_count": 36,
     "metadata": {},
     "output_type": "execute_result"
    }
   ],
   "source": [
    "#Confusion matrix for lr model\n",
    "cf_matrix = confusion_matrix(y_pred_lr, y_test, labels=[1,0])\n",
    "cf_matrix"
   ]
  },
  {
   "cell_type": "code",
   "execution_count": 37,
   "metadata": {},
   "outputs": [
    {
     "data": {
      "text/plain": [
       "Text(0.5, 1, 'Linear Regression')"
      ]
     },
     "execution_count": 37,
     "metadata": {},
     "output_type": "execute_result"
    },
    {
     "data": {
      "image/png": "[encoded data removed]",
      "text/plain": [
       "<Figure size 432x288 with 2 Axes>"
      ]
     },
     "metadata": {},
     "output_type": "display_data"
    }
   ],
   "source": [
    "sns.set(font_scale = 1.4)\n",
    "ax=sns.heatmap(cf_matrix, cmap = \"Blues\", annot = True, linewidth = 5, fmt = \"5\", annot_kws={\"size\": 20})\n",
    "ax.set_ylim(2,0)\n",
    "ax.set(xlabel = \"Observed\", ylabel = \"Predicted\")\n",
    "ax.xaxis.set_ticklabels([\"Fraud\", \"No Fraud\"])\n",
    "ax.yaxis.set_ticklabels([\"Fraud\", \"No Fraud\"])\n",
    "ax.set_title(\"Linear Regression\", fontsize = 20)"
   ]
  },
  {
   "cell_type": "markdown",
   "metadata": {},
   "source": [
    "We see that we have almost a third of frauds are not detected (high False Negative Rate). so we don't have a very good model up to now. Problem of the model? Problem of having unbalanced classes? Let's see..."
   ]
  },
  {
   "cell_type": "markdown",
   "metadata": {},
   "source": [
    "Now that we have created this previus steps to check the model performance, we will build a function so that we can later reproduce this steps with Random Forest Classifier or other models."
   ]
  },
  {
   "cell_type": "code",
   "execution_count": 38,
   "metadata": {},
   "outputs": [],
   "source": [
    "def show_model_results(model_name, y_pred, y_test):\n",
    "    #Confusion matrix \n",
    "    cf_matrix = confusion_matrix(y_pred, y_test, labels=[1,0])\n",
    "    cf_matrix\n",
    "    \n",
    "    #plot Confusion matrix \n",
    "    plt.figure().suptitle(model_name, fontsize=20)\n",
    "    sns.set(font_scale=1.4)\n",
    "    ax=sns.heatmap(cf_matrix,cmap='Blues', annot=True, linewidths=5,fmt=\"g\", annot_kws={\"size\": 20}) # font size\n",
    "    ax.set_ylim(2.0, 0)\n",
    "    ax.set(xlabel='real', ylabel='predicted')\n",
    "    ax.xaxis.set_ticklabels(['fraud', 'no fraud']); ax.yaxis.set_ticklabels(['fraud', 'no fraud'])\n",
    "    \n",
    "    \n",
    "    # Checking accuracy, precision and recall. \n",
    "    #TP= True Positive, FP= False Positive, TN = True Negative, FN = False Negative\n",
    "\n",
    "    print(\"__________________________________________________________\")\n",
    "    print(\"PERFORMANCE OF MODEL = {}\".format(model_name))\n",
    "    print(\"__________________________________________________________\")\n",
    "    \n",
    "    accuracy = accuracy_score (y_test, y_pred)  # (TP + TN) / (TP+TN+FP+FN)\n",
    "    print(\"Accuracy of the model = {}\".format(round(accuracy,3)))\n",
    "\n",
    "    precision = precision_score(y_test, y_pred) # (TP)/(TP+FP)\n",
    "    print(\"Precision of the model = {}\".format(round(precision,3)))\n",
    "\n",
    "\n",
    "    recall = recall_score(y_test, y_pred) # (TP)/(TP+FN)\n",
    "    print(\"Recall of the model = {}\".format(round(recall,3)))\n",
    "    \n",
    "    #f1 score (harmonic mean of precision and recall = 2* (precision*recall)/(precision+recall))\n",
    "    f1 = f1_score(y_test, y_pred) \n",
    "    print(\"f1 score of the model = {}\".format(round(f1,3)))\n",
    "    \n",
    "    return"
   ]
  },
  {
   "cell_type": "code",
   "execution_count": 39,
   "metadata": {},
   "outputs": [
    {
     "name": "stdout",
     "output_type": "stream",
     "text": [
      "__________________________________________________________\n",
      "PERFORMANCE OF MODEL = Linear Regression\n",
      "__________________________________________________________\n",
      "Accuracy of the model = 0.999\n",
      "Precision of the model = 0.897\n",
      "Recall of the model = 0.669\n",
      "f1 score of the model = 0.766\n"
     ]
    },
    {
     "data": {
      "image/png": "[encoded data removed]",
      "text/plain": [
       "<Figure size 432x288 with 2 Axes>"
      ]
     },
     "metadata": {},
     "output_type": "display_data"
    }
   ],
   "source": [
    "show_model_results(\"Linear Regression\", y_pred_lr, y_test)"
   ]
  },
  {
   "cell_type": "code",
   "execution_count": 40,
   "metadata": {},
   "outputs": [
    {
     "name": "stdout",
     "output_type": "stream",
     "text": [
      "__________________________________________________________\n",
      "PERFORMANCE OF MODEL = Random Forest Classifier\n",
      "__________________________________________________________\n",
      "Accuracy of the model = 0.999\n",
      "Precision of the model = 0.921\n",
      "Recall of the model = 0.763\n",
      "f1 score of the model = 0.835\n"
     ]
    },
    {
     "data": {
      "image/png": "[encoded data removed]",
      "text/plain": [
       "<Figure size 432x288 with 2 Axes>"
      ]
     },
     "metadata": {},
     "output_type": "display_data"
    }
   ],
   "source": [
    "show_model_results(\"Random Forest Classifier\", y_pred_rfc, y_test)"
   ]
  },
  {
   "cell_type": "markdown",
   "metadata": {},
   "source": [
    "### <span style=\"color:brown\"> We definitely have a problem of unbalanced classes. Let's fix it with oversampling and undersampling </span>"
   ]
  },
  {
   "cell_type": "markdown",
   "metadata": {},
   "source": [
    "### UNDERSAMPLING\n",
    " \n",
    " Let's downsize class 0 to the size of class 1, so that we have the same amount of rows belonging to these classes"
   ]
  },
  {
   "cell_type": "code",
   "execution_count": 41,
   "metadata": {},
   "outputs": [],
   "source": [
    "df2=df.sample(frac=1) #making a copy of original dataset withaleatory resampling"
   ]
  },
  {
   "cell_type": "code",
   "execution_count": 42,
   "metadata": {},
   "outputs": [
    {
     "data": {
      "text/html": [
       "<div>\n",
       "<style scoped>\n",
       "    .dataframe tbody tr th:only-of-type {\n",
       "        vertical-align: middle;\n",
       "    }\n",
       "\n",
       "    .dataframe tbody tr th {\n",
       "        vertical-align: top;\n",
       "    }\n",
       "\n",
       "    .dataframe thead th {\n",
       "        text-align: right;\n",
       "    }\n",
       "</style>\n",
       "<table border=\"1\" class=\"dataframe\">\n",
       "  <thead>\n",
       "    <tr style=\"text-align: right;\">\n",
       "      <th></th>\n",
       "      <th>V1</th>\n",
       "      <th>V2</th>\n",
       "      <th>V3</th>\n",
       "      <th>V4</th>\n",
       "      <th>V5</th>\n",
       "      <th>V6</th>\n",
       "      <th>V7</th>\n",
       "      <th>V8</th>\n",
       "      <th>V9</th>\n",
       "      <th>V10</th>\n",
       "      <th>...</th>\n",
       "      <th>V21</th>\n",
       "      <th>V22</th>\n",
       "      <th>V23</th>\n",
       "      <th>V24</th>\n",
       "      <th>V25</th>\n",
       "      <th>V26</th>\n",
       "      <th>V27</th>\n",
       "      <th>V28</th>\n",
       "      <th>Amount</th>\n",
       "      <th>Class</th>\n",
       "    </tr>\n",
       "  </thead>\n",
       "  <tbody>\n",
       "    <tr>\n",
       "      <th>212644</th>\n",
       "      <td>-2.356348</td>\n",
       "      <td>1.746360</td>\n",
       "      <td>-6.374624</td>\n",
       "      <td>1.772205</td>\n",
       "      <td>-3.439294</td>\n",
       "      <td>1.457811</td>\n",
       "      <td>-0.362577</td>\n",
       "      <td>1.443791</td>\n",
       "      <td>-1.927359</td>\n",
       "      <td>-6.564659</td>\n",
       "      <td>...</td>\n",
       "      <td>0.857942</td>\n",
       "      <td>0.621203</td>\n",
       "      <td>0.964817</td>\n",
       "      <td>-0.619437</td>\n",
       "      <td>-1.732613</td>\n",
       "      <td>0.108361</td>\n",
       "      <td>1.130828</td>\n",
       "      <td>0.415703</td>\n",
       "      <td>0.291164</td>\n",
       "      <td>1</td>\n",
       "    </tr>\n",
       "    <tr>\n",
       "      <th>254344</th>\n",
       "      <td>-0.129778</td>\n",
       "      <td>0.141547</td>\n",
       "      <td>-0.894702</td>\n",
       "      <td>-0.457662</td>\n",
       "      <td>0.810608</td>\n",
       "      <td>-0.504723</td>\n",
       "      <td>1.373588</td>\n",
       "      <td>-0.209476</td>\n",
       "      <td>0.208494</td>\n",
       "      <td>-1.613618</td>\n",
       "      <td>...</td>\n",
       "      <td>-0.032643</td>\n",
       "      <td>-0.246526</td>\n",
       "      <td>0.484108</td>\n",
       "      <td>0.359637</td>\n",
       "      <td>-0.435972</td>\n",
       "      <td>-0.248480</td>\n",
       "      <td>0.021527</td>\n",
       "      <td>0.109192</td>\n",
       "      <td>0.074844</td>\n",
       "      <td>1</td>\n",
       "    </tr>\n",
       "    <tr>\n",
       "      <th>6108</th>\n",
       "      <td>-4.397974</td>\n",
       "      <td>1.358367</td>\n",
       "      <td>-2.592844</td>\n",
       "      <td>2.679787</td>\n",
       "      <td>-1.128131</td>\n",
       "      <td>-1.706536</td>\n",
       "      <td>-3.496197</td>\n",
       "      <td>-0.248778</td>\n",
       "      <td>-0.247768</td>\n",
       "      <td>-4.801637</td>\n",
       "      <td>...</td>\n",
       "      <td>0.573574</td>\n",
       "      <td>0.176968</td>\n",
       "      <td>-0.436207</td>\n",
       "      <td>-0.053502</td>\n",
       "      <td>0.252405</td>\n",
       "      <td>-0.657488</td>\n",
       "      <td>-0.827136</td>\n",
       "      <td>0.849573</td>\n",
       "      <td>0.023600</td>\n",
       "      <td>1</td>\n",
       "    </tr>\n",
       "    <tr>\n",
       "      <th>18472</th>\n",
       "      <td>-1.060676</td>\n",
       "      <td>2.608579</td>\n",
       "      <td>-2.971679</td>\n",
       "      <td>4.360089</td>\n",
       "      <td>3.738853</td>\n",
       "      <td>-2.728395</td>\n",
       "      <td>1.987616</td>\n",
       "      <td>-0.357345</td>\n",
       "      <td>-2.757535</td>\n",
       "      <td>-2.335933</td>\n",
       "      <td>...</td>\n",
       "      <td>-0.063168</td>\n",
       "      <td>-0.207385</td>\n",
       "      <td>-0.183261</td>\n",
       "      <td>-0.103679</td>\n",
       "      <td>0.896178</td>\n",
       "      <td>0.407387</td>\n",
       "      <td>-0.130918</td>\n",
       "      <td>0.192177</td>\n",
       "      <td>0.000272</td>\n",
       "      <td>1</td>\n",
       "    </tr>\n",
       "    <tr>\n",
       "      <th>72757</th>\n",
       "      <td>-2.986466</td>\n",
       "      <td>-0.000891</td>\n",
       "      <td>0.605887</td>\n",
       "      <td>0.338338</td>\n",
       "      <td>0.685448</td>\n",
       "      <td>-1.581954</td>\n",
       "      <td>0.504206</td>\n",
       "      <td>-0.233403</td>\n",
       "      <td>0.636768</td>\n",
       "      <td>1.010291</td>\n",
       "      <td>...</td>\n",
       "      <td>-0.875146</td>\n",
       "      <td>-0.509849</td>\n",
       "      <td>1.313918</td>\n",
       "      <td>0.355065</td>\n",
       "      <td>0.448552</td>\n",
       "      <td>0.193490</td>\n",
       "      <td>1.214588</td>\n",
       "      <td>-0.013923</td>\n",
       "      <td>0.000716</td>\n",
       "      <td>1</td>\n",
       "    </tr>\n",
       "    <tr>\n",
       "      <th>...</th>\n",
       "      <td>...</td>\n",
       "      <td>...</td>\n",
       "      <td>...</td>\n",
       "      <td>...</td>\n",
       "      <td>...</td>\n",
       "      <td>...</td>\n",
       "      <td>...</td>\n",
       "      <td>...</td>\n",
       "      <td>...</td>\n",
       "      <td>...</td>\n",
       "      <td>...</td>\n",
       "      <td>...</td>\n",
       "      <td>...</td>\n",
       "      <td>...</td>\n",
       "      <td>...</td>\n",
       "      <td>...</td>\n",
       "      <td>...</td>\n",
       "      <td>...</td>\n",
       "      <td>...</td>\n",
       "      <td>...</td>\n",
       "      <td>...</td>\n",
       "    </tr>\n",
       "    <tr>\n",
       "      <th>42549</th>\n",
       "      <td>-5.314173</td>\n",
       "      <td>4.145944</td>\n",
       "      <td>-8.532522</td>\n",
       "      <td>8.344392</td>\n",
       "      <td>-5.718008</td>\n",
       "      <td>-3.043536</td>\n",
       "      <td>-10.989185</td>\n",
       "      <td>3.404129</td>\n",
       "      <td>-6.167234</td>\n",
       "      <td>-11.435624</td>\n",
       "      <td>...</td>\n",
       "      <td>2.331466</td>\n",
       "      <td>0.862996</td>\n",
       "      <td>-0.614453</td>\n",
       "      <td>0.523648</td>\n",
       "      <td>-0.712593</td>\n",
       "      <td>0.324638</td>\n",
       "      <td>2.245091</td>\n",
       "      <td>0.497321</td>\n",
       "      <td>0.035292</td>\n",
       "      <td>1</td>\n",
       "    </tr>\n",
       "    <tr>\n",
       "      <th>43773</th>\n",
       "      <td>-3.240187</td>\n",
       "      <td>2.978122</td>\n",
       "      <td>-4.162314</td>\n",
       "      <td>3.869124</td>\n",
       "      <td>-3.645256</td>\n",
       "      <td>-0.126271</td>\n",
       "      <td>-4.744730</td>\n",
       "      <td>-0.065331</td>\n",
       "      <td>-2.168366</td>\n",
       "      <td>-4.758304</td>\n",
       "      <td>...</td>\n",
       "      <td>2.601441</td>\n",
       "      <td>0.231910</td>\n",
       "      <td>-0.036490</td>\n",
       "      <td>0.042640</td>\n",
       "      <td>-0.438330</td>\n",
       "      <td>-0.125821</td>\n",
       "      <td>0.421300</td>\n",
       "      <td>0.003146</td>\n",
       "      <td>0.068928</td>\n",
       "      <td>1</td>\n",
       "    </tr>\n",
       "    <tr>\n",
       "      <th>213116</th>\n",
       "      <td>-3.975939</td>\n",
       "      <td>-1.244939</td>\n",
       "      <td>-3.707414</td>\n",
       "      <td>4.544772</td>\n",
       "      <td>4.050676</td>\n",
       "      <td>-3.407679</td>\n",
       "      <td>-5.063118</td>\n",
       "      <td>1.007042</td>\n",
       "      <td>-3.190158</td>\n",
       "      <td>-4.250717</td>\n",
       "      <td>...</td>\n",
       "      <td>1.059737</td>\n",
       "      <td>-0.037395</td>\n",
       "      <td>0.348707</td>\n",
       "      <td>-0.162929</td>\n",
       "      <td>0.410531</td>\n",
       "      <td>-0.123612</td>\n",
       "      <td>0.877424</td>\n",
       "      <td>0.667568</td>\n",
       "      <td>0.003320</td>\n",
       "      <td>1</td>\n",
       "    </tr>\n",
       "    <tr>\n",
       "      <th>143334</th>\n",
       "      <td>-7.030308</td>\n",
       "      <td>3.421991</td>\n",
       "      <td>-9.525072</td>\n",
       "      <td>5.270891</td>\n",
       "      <td>-4.024630</td>\n",
       "      <td>-2.865682</td>\n",
       "      <td>-6.989195</td>\n",
       "      <td>3.791551</td>\n",
       "      <td>-4.622730</td>\n",
       "      <td>-8.409665</td>\n",
       "      <td>...</td>\n",
       "      <td>1.103398</td>\n",
       "      <td>-0.541855</td>\n",
       "      <td>0.036943</td>\n",
       "      <td>-0.355519</td>\n",
       "      <td>0.353634</td>\n",
       "      <td>1.042458</td>\n",
       "      <td>1.359516</td>\n",
       "      <td>-0.272188</td>\n",
       "      <td>0.000000</td>\n",
       "      <td>1</td>\n",
       "    </tr>\n",
       "    <tr>\n",
       "      <th>154234</th>\n",
       "      <td>-23.984747</td>\n",
       "      <td>16.697832</td>\n",
       "      <td>-22.209875</td>\n",
       "      <td>9.584969</td>\n",
       "      <td>-16.230439</td>\n",
       "      <td>2.596333</td>\n",
       "      <td>-33.239328</td>\n",
       "      <td>-21.560039</td>\n",
       "      <td>-10.842526</td>\n",
       "      <td>-19.836149</td>\n",
       "      <td>...</td>\n",
       "      <td>-12.615023</td>\n",
       "      <td>5.774087</td>\n",
       "      <td>2.750221</td>\n",
       "      <td>0.513411</td>\n",
       "      <td>-1.608804</td>\n",
       "      <td>-0.459624</td>\n",
       "      <td>-4.626127</td>\n",
       "      <td>-0.334561</td>\n",
       "      <td>0.000400</td>\n",
       "      <td>1</td>\n",
       "    </tr>\n",
       "  </tbody>\n",
       "</table>\n",
       "<p>492 rows × 30 columns</p>\n",
       "</div>"
      ],
      "text/plain": [
       "               V1         V2         V3        V4         V5        V6  \\\n",
       "212644  -2.356348   1.746360  -6.374624  1.772205  -3.439294  1.457811   \n",
       "254344  -0.129778   0.141547  -0.894702 -0.457662   0.810608 -0.504723   \n",
       "6108    -4.397974   1.358367  -2.592844  2.679787  -1.128131 -1.706536   \n",
       "18472   -1.060676   2.608579  -2.971679  4.360089   3.738853 -2.728395   \n",
       "72757   -2.986466  -0.000891   0.605887  0.338338   0.685448 -1.581954   \n",
       "...           ...        ...        ...       ...        ...       ...   \n",
       "42549   -5.314173   4.145944  -8.532522  8.344392  -5.718008 -3.043536   \n",
       "43773   -3.240187   2.978122  -4.162314  3.869124  -3.645256 -0.126271   \n",
       "213116  -3.975939  -1.244939  -3.707414  4.544772   4.050676 -3.407679   \n",
       "143334  -7.030308   3.421991  -9.525072  5.270891  -4.024630 -2.865682   \n",
       "154234 -23.984747  16.697832 -22.209875  9.584969 -16.230439  2.596333   \n",
       "\n",
       "               V7         V8         V9        V10  ...        V21       V22  \\\n",
       "212644  -0.362577   1.443791  -1.927359  -6.564659  ...   0.857942  0.621203   \n",
       "254344   1.373588  -0.209476   0.208494  -1.613618  ...  -0.032643 -0.246526   \n",
       "6108    -3.496197  -0.248778  -0.247768  -4.801637  ...   0.573574  0.176968   \n",
       "18472    1.987616  -0.357345  -2.757535  -2.335933  ...  -0.063168 -0.207385   \n",
       "72757    0.504206  -0.233403   0.636768   1.010291  ...  -0.875146 -0.509849   \n",
       "...           ...        ...        ...        ...  ...        ...       ...   \n",
       "42549  -10.989185   3.404129  -6.167234 -11.435624  ...   2.331466  0.862996   \n",
       "43773   -4.744730  -0.065331  -2.168366  -4.758304  ...   2.601441  0.231910   \n",
       "213116  -5.063118   1.007042  -3.190158  -4.250717  ...   1.059737 -0.037395   \n",
       "143334  -6.989195   3.791551  -4.622730  -8.409665  ...   1.103398 -0.541855   \n",
       "154234 -33.239328 -21.560039 -10.842526 -19.836149  ... -12.615023  5.774087   \n",
       "\n",
       "             V23       V24       V25       V26       V27       V28    Amount  \\\n",
       "212644  0.964817 -0.619437 -1.732613  0.108361  1.130828  0.415703  0.291164   \n",
       "254344  0.484108  0.359637 -0.435972 -0.248480  0.021527  0.109192  0.074844   \n",
       "6108   -0.436207 -0.053502  0.252405 -0.657488 -0.827136  0.849573  0.023600   \n",
       "18472  -0.183261 -0.103679  0.896178  0.407387 -0.130918  0.192177  0.000272   \n",
       "72757   1.313918  0.355065  0.448552  0.193490  1.214588 -0.013923  0.000716   \n",
       "...          ...       ...       ...       ...       ...       ...       ...   \n",
       "42549  -0.614453  0.523648 -0.712593  0.324638  2.245091  0.497321  0.035292   \n",
       "43773  -0.036490  0.042640 -0.438330 -0.125821  0.421300  0.003146  0.068928   \n",
       "213116  0.348707 -0.162929  0.410531 -0.123612  0.877424  0.667568  0.003320   \n",
       "143334  0.036943 -0.355519  0.353634  1.042458  1.359516 -0.272188  0.000000   \n",
       "154234  2.750221  0.513411 -1.608804 -0.459624 -4.626127 -0.334561  0.000400   \n",
       "\n",
       "        Class  \n",
       "212644      1  \n",
       "254344      1  \n",
       "6108        1  \n",
       "18472       1  \n",
       "72757       1  \n",
       "...       ...  \n",
       "42549       1  \n",
       "43773       1  \n",
       "213116      1  \n",
       "143334      1  \n",
       "154234      1  \n",
       "\n",
       "[492 rows x 30 columns]"
      ]
     },
     "execution_count": 42,
     "metadata": {},
     "output_type": "execute_result"
    }
   ],
   "source": [
    "fraud2 = df2[df2[\"Class\"]==1]\n",
    "fraud2"
   ]
  },
  {
   "cell_type": "code",
   "execution_count": 43,
   "metadata": {},
   "outputs": [
    {
     "data": {
      "text/html": [
       "<div>\n",
       "<style scoped>\n",
       "    .dataframe tbody tr th:only-of-type {\n",
       "        vertical-align: middle;\n",
       "    }\n",
       "\n",
       "    .dataframe tbody tr th {\n",
       "        vertical-align: top;\n",
       "    }\n",
       "\n",
       "    .dataframe thead th {\n",
       "        text-align: right;\n",
       "    }\n",
       "</style>\n",
       "<table border=\"1\" class=\"dataframe\">\n",
       "  <thead>\n",
       "    <tr style=\"text-align: right;\">\n",
       "      <th></th>\n",
       "      <th>V1</th>\n",
       "      <th>V2</th>\n",
       "      <th>V3</th>\n",
       "      <th>V4</th>\n",
       "      <th>V5</th>\n",
       "      <th>V6</th>\n",
       "      <th>V7</th>\n",
       "      <th>V8</th>\n",
       "      <th>V9</th>\n",
       "      <th>V10</th>\n",
       "      <th>...</th>\n",
       "      <th>V21</th>\n",
       "      <th>V22</th>\n",
       "      <th>V23</th>\n",
       "      <th>V24</th>\n",
       "      <th>V25</th>\n",
       "      <th>V26</th>\n",
       "      <th>V27</th>\n",
       "      <th>V28</th>\n",
       "      <th>Amount</th>\n",
       "      <th>Class</th>\n",
       "    </tr>\n",
       "  </thead>\n",
       "  <tbody>\n",
       "    <tr>\n",
       "      <th>276987</th>\n",
       "      <td>-3.986497</td>\n",
       "      <td>2.595507</td>\n",
       "      <td>0.550910</td>\n",
       "      <td>4.056010</td>\n",
       "      <td>-1.069549</td>\n",
       "      <td>1.907922</td>\n",
       "      <td>-1.604947</td>\n",
       "      <td>1.798305</td>\n",
       "      <td>-0.946212</td>\n",
       "      <td>2.724820</td>\n",
       "      <td>...</td>\n",
       "      <td>0.038784</td>\n",
       "      <td>0.192090</td>\n",
       "      <td>-0.005699</td>\n",
       "      <td>0.186252</td>\n",
       "      <td>0.058579</td>\n",
       "      <td>0.238317</td>\n",
       "      <td>-1.712886</td>\n",
       "      <td>-0.510650</td>\n",
       "      <td>0.009408</td>\n",
       "      <td>0</td>\n",
       "    </tr>\n",
       "    <tr>\n",
       "      <th>241296</th>\n",
       "      <td>2.062295</td>\n",
       "      <td>-0.153437</td>\n",
       "      <td>-2.085405</td>\n",
       "      <td>0.169503</td>\n",
       "      <td>0.412698</td>\n",
       "      <td>-1.141236</td>\n",
       "      <td>0.525379</td>\n",
       "      <td>-0.321716</td>\n",
       "      <td>0.157322</td>\n",
       "      <td>0.358457</td>\n",
       "      <td>...</td>\n",
       "      <td>0.121262</td>\n",
       "      <td>0.409499</td>\n",
       "      <td>-0.078533</td>\n",
       "      <td>-0.283278</td>\n",
       "      <td>0.308995</td>\n",
       "      <td>0.830403</td>\n",
       "      <td>-0.139295</td>\n",
       "      <td>-0.099637</td>\n",
       "      <td>0.009160</td>\n",
       "      <td>0</td>\n",
       "    </tr>\n",
       "    <tr>\n",
       "      <th>4189</th>\n",
       "      <td>1.304989</td>\n",
       "      <td>-0.441610</td>\n",
       "      <td>0.795409</td>\n",
       "      <td>-0.418427</td>\n",
       "      <td>-1.059743</td>\n",
       "      <td>-0.713620</td>\n",
       "      <td>-0.703108</td>\n",
       "      <td>-0.146676</td>\n",
       "      <td>0.523556</td>\n",
       "      <td>0.194006</td>\n",
       "      <td>...</td>\n",
       "      <td>-0.188056</td>\n",
       "      <td>-0.442504</td>\n",
       "      <td>0.202965</td>\n",
       "      <td>0.318567</td>\n",
       "      <td>0.073723</td>\n",
       "      <td>-0.511895</td>\n",
       "      <td>-0.005318</td>\n",
       "      <td>0.019101</td>\n",
       "      <td>0.011516</td>\n",
       "      <td>0</td>\n",
       "    </tr>\n",
       "    <tr>\n",
       "      <th>7530</th>\n",
       "      <td>-1.344960</td>\n",
       "      <td>1.607285</td>\n",
       "      <td>2.502459</td>\n",
       "      <td>2.767967</td>\n",
       "      <td>-0.093336</td>\n",
       "      <td>0.586971</td>\n",
       "      <td>0.167595</td>\n",
       "      <td>0.084712</td>\n",
       "      <td>0.925116</td>\n",
       "      <td>1.500307</td>\n",
       "      <td>...</td>\n",
       "      <td>-0.364552</td>\n",
       "      <td>-0.282218</td>\n",
       "      <td>-0.027845</td>\n",
       "      <td>-0.050605</td>\n",
       "      <td>-0.013547</td>\n",
       "      <td>0.139674</td>\n",
       "      <td>0.486625</td>\n",
       "      <td>0.168689</td>\n",
       "      <td>0.008268</td>\n",
       "      <td>0</td>\n",
       "    </tr>\n",
       "    <tr>\n",
       "      <th>280453</th>\n",
       "      <td>-0.195701</td>\n",
       "      <td>0.931604</td>\n",
       "      <td>0.171368</td>\n",
       "      <td>-0.621118</td>\n",
       "      <td>0.276541</td>\n",
       "      <td>-1.197208</td>\n",
       "      <td>0.892256</td>\n",
       "      <td>-0.125743</td>\n",
       "      <td>0.335812</td>\n",
       "      <td>-0.061291</td>\n",
       "      <td>...</td>\n",
       "      <td>-0.306138</td>\n",
       "      <td>-0.693874</td>\n",
       "      <td>0.088215</td>\n",
       "      <td>0.002665</td>\n",
       "      <td>-0.482342</td>\n",
       "      <td>0.146737</td>\n",
       "      <td>0.348811</td>\n",
       "      <td>0.154072</td>\n",
       "      <td>0.000516</td>\n",
       "      <td>0</td>\n",
       "    </tr>\n",
       "    <tr>\n",
       "      <th>...</th>\n",
       "      <td>...</td>\n",
       "      <td>...</td>\n",
       "      <td>...</td>\n",
       "      <td>...</td>\n",
       "      <td>...</td>\n",
       "      <td>...</td>\n",
       "      <td>...</td>\n",
       "      <td>...</td>\n",
       "      <td>...</td>\n",
       "      <td>...</td>\n",
       "      <td>...</td>\n",
       "      <td>...</td>\n",
       "      <td>...</td>\n",
       "      <td>...</td>\n",
       "      <td>...</td>\n",
       "      <td>...</td>\n",
       "      <td>...</td>\n",
       "      <td>...</td>\n",
       "      <td>...</td>\n",
       "      <td>...</td>\n",
       "      <td>...</td>\n",
       "    </tr>\n",
       "    <tr>\n",
       "      <th>157665</th>\n",
       "      <td>-2.460430</td>\n",
       "      <td>-2.172369</td>\n",
       "      <td>4.187811</td>\n",
       "      <td>5.820266</td>\n",
       "      <td>2.182047</td>\n",
       "      <td>0.161296</td>\n",
       "      <td>-2.794314</td>\n",
       "      <td>0.581976</td>\n",
       "      <td>1.223488</td>\n",
       "      <td>0.958483</td>\n",
       "      <td>...</td>\n",
       "      <td>0.150043</td>\n",
       "      <td>0.474159</td>\n",
       "      <td>0.149608</td>\n",
       "      <td>0.030488</td>\n",
       "      <td>0.189485</td>\n",
       "      <td>0.587961</td>\n",
       "      <td>-0.095825</td>\n",
       "      <td>-0.059485</td>\n",
       "      <td>0.000024</td>\n",
       "      <td>0</td>\n",
       "    </tr>\n",
       "    <tr>\n",
       "      <th>255583</th>\n",
       "      <td>-1.471530</td>\n",
       "      <td>2.270315</td>\n",
       "      <td>-2.164849</td>\n",
       "      <td>-1.144598</td>\n",
       "      <td>0.415464</td>\n",
       "      <td>-1.513125</td>\n",
       "      <td>0.630797</td>\n",
       "      <td>0.838206</td>\n",
       "      <td>-0.677182</td>\n",
       "      <td>-0.563171</td>\n",
       "      <td>...</td>\n",
       "      <td>0.313367</td>\n",
       "      <td>0.861210</td>\n",
       "      <td>-0.050977</td>\n",
       "      <td>0.802230</td>\n",
       "      <td>-0.077747</td>\n",
       "      <td>0.068223</td>\n",
       "      <td>0.235852</td>\n",
       "      <td>0.202470</td>\n",
       "      <td>0.000584</td>\n",
       "      <td>0</td>\n",
       "    </tr>\n",
       "    <tr>\n",
       "      <th>127806</th>\n",
       "      <td>1.066594</td>\n",
       "      <td>0.018446</td>\n",
       "      <td>0.479158</td>\n",
       "      <td>1.419274</td>\n",
       "      <td>-0.490852</td>\n",
       "      <td>-0.452841</td>\n",
       "      <td>0.053976</td>\n",
       "      <td>0.010562</td>\n",
       "      <td>0.131343</td>\n",
       "      <td>0.090405</td>\n",
       "      <td>...</td>\n",
       "      <td>-0.046824</td>\n",
       "      <td>-0.104716</td>\n",
       "      <td>-0.108169</td>\n",
       "      <td>0.525026</td>\n",
       "      <td>0.636720</td>\n",
       "      <td>-0.374057</td>\n",
       "      <td>0.006815</td>\n",
       "      <td>0.017088</td>\n",
       "      <td>0.020600</td>\n",
       "      <td>0</td>\n",
       "    </tr>\n",
       "    <tr>\n",
       "      <th>117182</th>\n",
       "      <td>-0.704058</td>\n",
       "      <td>1.353796</td>\n",
       "      <td>0.975942</td>\n",
       "      <td>0.822890</td>\n",
       "      <td>-0.297220</td>\n",
       "      <td>-0.660884</td>\n",
       "      <td>0.292827</td>\n",
       "      <td>0.476587</td>\n",
       "      <td>-0.882298</td>\n",
       "      <td>-0.053545</td>\n",
       "      <td>...</td>\n",
       "      <td>0.207373</td>\n",
       "      <td>0.575584</td>\n",
       "      <td>-0.096018</td>\n",
       "      <td>0.532026</td>\n",
       "      <td>-0.251183</td>\n",
       "      <td>-0.342894</td>\n",
       "      <td>0.286108</td>\n",
       "      <td>0.151363</td>\n",
       "      <td>0.001412</td>\n",
       "      <td>0</td>\n",
       "    </tr>\n",
       "    <tr>\n",
       "      <th>253685</th>\n",
       "      <td>2.038816</td>\n",
       "      <td>-0.022425</td>\n",
       "      <td>-1.656321</td>\n",
       "      <td>0.499322</td>\n",
       "      <td>0.213118</td>\n",
       "      <td>-1.333382</td>\n",
       "      <td>0.556813</td>\n",
       "      <td>-0.438773</td>\n",
       "      <td>0.610017</td>\n",
       "      <td>-0.073482</td>\n",
       "      <td>...</td>\n",
       "      <td>0.009924</td>\n",
       "      <td>0.242724</td>\n",
       "      <td>0.027848</td>\n",
       "      <td>0.010849</td>\n",
       "      <td>0.336280</td>\n",
       "      <td>-0.218755</td>\n",
       "      <td>-0.036731</td>\n",
       "      <td>-0.064746</td>\n",
       "      <td>0.007992</td>\n",
       "      <td>0</td>\n",
       "    </tr>\n",
       "  </tbody>\n",
       "</table>\n",
       "<p>492 rows × 30 columns</p>\n",
       "</div>"
      ],
      "text/plain": [
       "              V1        V2        V3        V4        V5        V6        V7  \\\n",
       "276987 -3.986497  2.595507  0.550910  4.056010 -1.069549  1.907922 -1.604947   \n",
       "241296  2.062295 -0.153437 -2.085405  0.169503  0.412698 -1.141236  0.525379   \n",
       "4189    1.304989 -0.441610  0.795409 -0.418427 -1.059743 -0.713620 -0.703108   \n",
       "7530   -1.344960  1.607285  2.502459  2.767967 -0.093336  0.586971  0.167595   \n",
       "280453 -0.195701  0.931604  0.171368 -0.621118  0.276541 -1.197208  0.892256   \n",
       "...          ...       ...       ...       ...       ...       ...       ...   \n",
       "157665 -2.460430 -2.172369  4.187811  5.820266  2.182047  0.161296 -2.794314   \n",
       "255583 -1.471530  2.270315 -2.164849 -1.144598  0.415464 -1.513125  0.630797   \n",
       "127806  1.066594  0.018446  0.479158  1.419274 -0.490852 -0.452841  0.053976   \n",
       "117182 -0.704058  1.353796  0.975942  0.822890 -0.297220 -0.660884  0.292827   \n",
       "253685  2.038816 -0.022425 -1.656321  0.499322  0.213118 -1.333382  0.556813   \n",
       "\n",
       "              V8        V9       V10  ...       V21       V22       V23  \\\n",
       "276987  1.798305 -0.946212  2.724820  ...  0.038784  0.192090 -0.005699   \n",
       "241296 -0.321716  0.157322  0.358457  ...  0.121262  0.409499 -0.078533   \n",
       "4189   -0.146676  0.523556  0.194006  ... -0.188056 -0.442504  0.202965   \n",
       "7530    0.084712  0.925116  1.500307  ... -0.364552 -0.282218 -0.027845   \n",
       "280453 -0.125743  0.335812 -0.061291  ... -0.306138 -0.693874  0.088215   \n",
       "...          ...       ...       ...  ...       ...       ...       ...   \n",
       "157665  0.581976  1.223488  0.958483  ...  0.150043  0.474159  0.149608   \n",
       "255583  0.838206 -0.677182 -0.563171  ...  0.313367  0.861210 -0.050977   \n",
       "127806  0.010562  0.131343  0.090405  ... -0.046824 -0.104716 -0.108169   \n",
       "117182  0.476587 -0.882298 -0.053545  ...  0.207373  0.575584 -0.096018   \n",
       "253685 -0.438773  0.610017 -0.073482  ...  0.009924  0.242724  0.027848   \n",
       "\n",
       "             V24       V25       V26       V27       V28    Amount  Class  \n",
       "276987  0.186252  0.058579  0.238317 -1.712886 -0.510650  0.009408      0  \n",
       "241296 -0.283278  0.308995  0.830403 -0.139295 -0.099637  0.009160      0  \n",
       "4189    0.318567  0.073723 -0.511895 -0.005318  0.019101  0.011516      0  \n",
       "7530   -0.050605 -0.013547  0.139674  0.486625  0.168689  0.008268      0  \n",
       "280453  0.002665 -0.482342  0.146737  0.348811  0.154072  0.000516      0  \n",
       "...          ...       ...       ...       ...       ...       ...    ...  \n",
       "157665  0.030488  0.189485  0.587961 -0.095825 -0.059485  0.000024      0  \n",
       "255583  0.802230 -0.077747  0.068223  0.235852  0.202470  0.000584      0  \n",
       "127806  0.525026  0.636720 -0.374057  0.006815  0.017088  0.020600      0  \n",
       "117182  0.532026 -0.251183 -0.342894  0.286108  0.151363  0.001412      0  \n",
       "253685  0.010849  0.336280 -0.218755 -0.036731 -0.064746  0.007992      0  \n",
       "\n",
       "[492 rows x 30 columns]"
      ]
     },
     "execution_count": 43,
     "metadata": {},
     "output_type": "execute_result"
    }
   ],
   "source": [
    "no_fraud2 = df2[df2[\"Class\"]==0][:492]\n",
    "no_fraud2"
   ]
  },
  {
   "cell_type": "code",
   "execution_count": 44,
   "metadata": {},
   "outputs": [],
   "source": [
    "df_downsampling = pd.concat([fraud2, no_fraud2])"
   ]
  },
  {
   "cell_type": "code",
   "execution_count": 45,
   "metadata": {},
   "outputs": [
    {
     "data": {
      "text/html": [
       "<div>\n",
       "<style scoped>\n",
       "    .dataframe tbody tr th:only-of-type {\n",
       "        vertical-align: middle;\n",
       "    }\n",
       "\n",
       "    .dataframe tbody tr th {\n",
       "        vertical-align: top;\n",
       "    }\n",
       "\n",
       "    .dataframe thead th {\n",
       "        text-align: right;\n",
       "    }\n",
       "</style>\n",
       "<table border=\"1\" class=\"dataframe\">\n",
       "  <thead>\n",
       "    <tr style=\"text-align: right;\">\n",
       "      <th></th>\n",
       "      <th>V1</th>\n",
       "      <th>V2</th>\n",
       "      <th>V3</th>\n",
       "      <th>V4</th>\n",
       "      <th>V5</th>\n",
       "      <th>V6</th>\n",
       "      <th>V7</th>\n",
       "      <th>V8</th>\n",
       "      <th>V9</th>\n",
       "      <th>V10</th>\n",
       "      <th>...</th>\n",
       "      <th>V21</th>\n",
       "      <th>V22</th>\n",
       "      <th>V23</th>\n",
       "      <th>V24</th>\n",
       "      <th>V25</th>\n",
       "      <th>V26</th>\n",
       "      <th>V27</th>\n",
       "      <th>V28</th>\n",
       "      <th>Amount</th>\n",
       "      <th>Class</th>\n",
       "    </tr>\n",
       "  </thead>\n",
       "  <tbody>\n",
       "    <tr>\n",
       "      <th>212644</th>\n",
       "      <td>-2.356348</td>\n",
       "      <td>1.746360</td>\n",
       "      <td>-6.374624</td>\n",
       "      <td>1.772205</td>\n",
       "      <td>-3.439294</td>\n",
       "      <td>1.457811</td>\n",
       "      <td>-0.362577</td>\n",
       "      <td>1.443791</td>\n",
       "      <td>-1.927359</td>\n",
       "      <td>-6.564659</td>\n",
       "      <td>...</td>\n",
       "      <td>0.857942</td>\n",
       "      <td>0.621203</td>\n",
       "      <td>0.964817</td>\n",
       "      <td>-0.619437</td>\n",
       "      <td>-1.732613</td>\n",
       "      <td>0.108361</td>\n",
       "      <td>1.130828</td>\n",
       "      <td>0.415703</td>\n",
       "      <td>0.291164</td>\n",
       "      <td>1</td>\n",
       "    </tr>\n",
       "    <tr>\n",
       "      <th>254344</th>\n",
       "      <td>-0.129778</td>\n",
       "      <td>0.141547</td>\n",
       "      <td>-0.894702</td>\n",
       "      <td>-0.457662</td>\n",
       "      <td>0.810608</td>\n",
       "      <td>-0.504723</td>\n",
       "      <td>1.373588</td>\n",
       "      <td>-0.209476</td>\n",
       "      <td>0.208494</td>\n",
       "      <td>-1.613618</td>\n",
       "      <td>...</td>\n",
       "      <td>-0.032643</td>\n",
       "      <td>-0.246526</td>\n",
       "      <td>0.484108</td>\n",
       "      <td>0.359637</td>\n",
       "      <td>-0.435972</td>\n",
       "      <td>-0.248480</td>\n",
       "      <td>0.021527</td>\n",
       "      <td>0.109192</td>\n",
       "      <td>0.074844</td>\n",
       "      <td>1</td>\n",
       "    </tr>\n",
       "    <tr>\n",
       "      <th>6108</th>\n",
       "      <td>-4.397974</td>\n",
       "      <td>1.358367</td>\n",
       "      <td>-2.592844</td>\n",
       "      <td>2.679787</td>\n",
       "      <td>-1.128131</td>\n",
       "      <td>-1.706536</td>\n",
       "      <td>-3.496197</td>\n",
       "      <td>-0.248778</td>\n",
       "      <td>-0.247768</td>\n",
       "      <td>-4.801637</td>\n",
       "      <td>...</td>\n",
       "      <td>0.573574</td>\n",
       "      <td>0.176968</td>\n",
       "      <td>-0.436207</td>\n",
       "      <td>-0.053502</td>\n",
       "      <td>0.252405</td>\n",
       "      <td>-0.657488</td>\n",
       "      <td>-0.827136</td>\n",
       "      <td>0.849573</td>\n",
       "      <td>0.023600</td>\n",
       "      <td>1</td>\n",
       "    </tr>\n",
       "    <tr>\n",
       "      <th>18472</th>\n",
       "      <td>-1.060676</td>\n",
       "      <td>2.608579</td>\n",
       "      <td>-2.971679</td>\n",
       "      <td>4.360089</td>\n",
       "      <td>3.738853</td>\n",
       "      <td>-2.728395</td>\n",
       "      <td>1.987616</td>\n",
       "      <td>-0.357345</td>\n",
       "      <td>-2.757535</td>\n",
       "      <td>-2.335933</td>\n",
       "      <td>...</td>\n",
       "      <td>-0.063168</td>\n",
       "      <td>-0.207385</td>\n",
       "      <td>-0.183261</td>\n",
       "      <td>-0.103679</td>\n",
       "      <td>0.896178</td>\n",
       "      <td>0.407387</td>\n",
       "      <td>-0.130918</td>\n",
       "      <td>0.192177</td>\n",
       "      <td>0.000272</td>\n",
       "      <td>1</td>\n",
       "    </tr>\n",
       "    <tr>\n",
       "      <th>72757</th>\n",
       "      <td>-2.986466</td>\n",
       "      <td>-0.000891</td>\n",
       "      <td>0.605887</td>\n",
       "      <td>0.338338</td>\n",
       "      <td>0.685448</td>\n",
       "      <td>-1.581954</td>\n",
       "      <td>0.504206</td>\n",
       "      <td>-0.233403</td>\n",
       "      <td>0.636768</td>\n",
       "      <td>1.010291</td>\n",
       "      <td>...</td>\n",
       "      <td>-0.875146</td>\n",
       "      <td>-0.509849</td>\n",
       "      <td>1.313918</td>\n",
       "      <td>0.355065</td>\n",
       "      <td>0.448552</td>\n",
       "      <td>0.193490</td>\n",
       "      <td>1.214588</td>\n",
       "      <td>-0.013923</td>\n",
       "      <td>0.000716</td>\n",
       "      <td>1</td>\n",
       "    </tr>\n",
       "    <tr>\n",
       "      <th>...</th>\n",
       "      <td>...</td>\n",
       "      <td>...</td>\n",
       "      <td>...</td>\n",
       "      <td>...</td>\n",
       "      <td>...</td>\n",
       "      <td>...</td>\n",
       "      <td>...</td>\n",
       "      <td>...</td>\n",
       "      <td>...</td>\n",
       "      <td>...</td>\n",
       "      <td>...</td>\n",
       "      <td>...</td>\n",
       "      <td>...</td>\n",
       "      <td>...</td>\n",
       "      <td>...</td>\n",
       "      <td>...</td>\n",
       "      <td>...</td>\n",
       "      <td>...</td>\n",
       "      <td>...</td>\n",
       "      <td>...</td>\n",
       "      <td>...</td>\n",
       "    </tr>\n",
       "    <tr>\n",
       "      <th>157665</th>\n",
       "      <td>-2.460430</td>\n",
       "      <td>-2.172369</td>\n",
       "      <td>4.187811</td>\n",
       "      <td>5.820266</td>\n",
       "      <td>2.182047</td>\n",
       "      <td>0.161296</td>\n",
       "      <td>-2.794314</td>\n",
       "      <td>0.581976</td>\n",
       "      <td>1.223488</td>\n",
       "      <td>0.958483</td>\n",
       "      <td>...</td>\n",
       "      <td>0.150043</td>\n",
       "      <td>0.474159</td>\n",
       "      <td>0.149608</td>\n",
       "      <td>0.030488</td>\n",
       "      <td>0.189485</td>\n",
       "      <td>0.587961</td>\n",
       "      <td>-0.095825</td>\n",
       "      <td>-0.059485</td>\n",
       "      <td>0.000024</td>\n",
       "      <td>0</td>\n",
       "    </tr>\n",
       "    <tr>\n",
       "      <th>255583</th>\n",
       "      <td>-1.471530</td>\n",
       "      <td>2.270315</td>\n",
       "      <td>-2.164849</td>\n",
       "      <td>-1.144598</td>\n",
       "      <td>0.415464</td>\n",
       "      <td>-1.513125</td>\n",
       "      <td>0.630797</td>\n",
       "      <td>0.838206</td>\n",
       "      <td>-0.677182</td>\n",
       "      <td>-0.563171</td>\n",
       "      <td>...</td>\n",
       "      <td>0.313367</td>\n",
       "      <td>0.861210</td>\n",
       "      <td>-0.050977</td>\n",
       "      <td>0.802230</td>\n",
       "      <td>-0.077747</td>\n",
       "      <td>0.068223</td>\n",
       "      <td>0.235852</td>\n",
       "      <td>0.202470</td>\n",
       "      <td>0.000584</td>\n",
       "      <td>0</td>\n",
       "    </tr>\n",
       "    <tr>\n",
       "      <th>127806</th>\n",
       "      <td>1.066594</td>\n",
       "      <td>0.018446</td>\n",
       "      <td>0.479158</td>\n",
       "      <td>1.419274</td>\n",
       "      <td>-0.490852</td>\n",
       "      <td>-0.452841</td>\n",
       "      <td>0.053976</td>\n",
       "      <td>0.010562</td>\n",
       "      <td>0.131343</td>\n",
       "      <td>0.090405</td>\n",
       "      <td>...</td>\n",
       "      <td>-0.046824</td>\n",
       "      <td>-0.104716</td>\n",
       "      <td>-0.108169</td>\n",
       "      <td>0.525026</td>\n",
       "      <td>0.636720</td>\n",
       "      <td>-0.374057</td>\n",
       "      <td>0.006815</td>\n",
       "      <td>0.017088</td>\n",
       "      <td>0.020600</td>\n",
       "      <td>0</td>\n",
       "    </tr>\n",
       "    <tr>\n",
       "      <th>117182</th>\n",
       "      <td>-0.704058</td>\n",
       "      <td>1.353796</td>\n",
       "      <td>0.975942</td>\n",
       "      <td>0.822890</td>\n",
       "      <td>-0.297220</td>\n",
       "      <td>-0.660884</td>\n",
       "      <td>0.292827</td>\n",
       "      <td>0.476587</td>\n",
       "      <td>-0.882298</td>\n",
       "      <td>-0.053545</td>\n",
       "      <td>...</td>\n",
       "      <td>0.207373</td>\n",
       "      <td>0.575584</td>\n",
       "      <td>-0.096018</td>\n",
       "      <td>0.532026</td>\n",
       "      <td>-0.251183</td>\n",
       "      <td>-0.342894</td>\n",
       "      <td>0.286108</td>\n",
       "      <td>0.151363</td>\n",
       "      <td>0.001412</td>\n",
       "      <td>0</td>\n",
       "    </tr>\n",
       "    <tr>\n",
       "      <th>253685</th>\n",
       "      <td>2.038816</td>\n",
       "      <td>-0.022425</td>\n",
       "      <td>-1.656321</td>\n",
       "      <td>0.499322</td>\n",
       "      <td>0.213118</td>\n",
       "      <td>-1.333382</td>\n",
       "      <td>0.556813</td>\n",
       "      <td>-0.438773</td>\n",
       "      <td>0.610017</td>\n",
       "      <td>-0.073482</td>\n",
       "      <td>...</td>\n",
       "      <td>0.009924</td>\n",
       "      <td>0.242724</td>\n",
       "      <td>0.027848</td>\n",
       "      <td>0.010849</td>\n",
       "      <td>0.336280</td>\n",
       "      <td>-0.218755</td>\n",
       "      <td>-0.036731</td>\n",
       "      <td>-0.064746</td>\n",
       "      <td>0.007992</td>\n",
       "      <td>0</td>\n",
       "    </tr>\n",
       "  </tbody>\n",
       "</table>\n",
       "<p>984 rows × 30 columns</p>\n",
       "</div>"
      ],
      "text/plain": [
       "              V1        V2        V3        V4        V5        V6        V7  \\\n",
       "212644 -2.356348  1.746360 -6.374624  1.772205 -3.439294  1.457811 -0.362577   \n",
       "254344 -0.129778  0.141547 -0.894702 -0.457662  0.810608 -0.504723  1.373588   \n",
       "6108   -4.397974  1.358367 -2.592844  2.679787 -1.128131 -1.706536 -3.496197   \n",
       "18472  -1.060676  2.608579 -2.971679  4.360089  3.738853 -2.728395  1.987616   \n",
       "72757  -2.986466 -0.000891  0.605887  0.338338  0.685448 -1.581954  0.504206   \n",
       "...          ...       ...       ...       ...       ...       ...       ...   \n",
       "157665 -2.460430 -2.172369  4.187811  5.820266  2.182047  0.161296 -2.794314   \n",
       "255583 -1.471530  2.270315 -2.164849 -1.144598  0.415464 -1.513125  0.630797   \n",
       "127806  1.066594  0.018446  0.479158  1.419274 -0.490852 -0.452841  0.053976   \n",
       "117182 -0.704058  1.353796  0.975942  0.822890 -0.297220 -0.660884  0.292827   \n",
       "253685  2.038816 -0.022425 -1.656321  0.499322  0.213118 -1.333382  0.556813   \n",
       "\n",
       "              V8        V9       V10  ...       V21       V22       V23  \\\n",
       "212644  1.443791 -1.927359 -6.564659  ...  0.857942  0.621203  0.964817   \n",
       "254344 -0.209476  0.208494 -1.613618  ... -0.032643 -0.246526  0.484108   \n",
       "6108   -0.248778 -0.247768 -4.801637  ...  0.573574  0.176968 -0.436207   \n",
       "18472  -0.357345 -2.757535 -2.335933  ... -0.063168 -0.207385 -0.183261   \n",
       "72757  -0.233403  0.636768  1.010291  ... -0.875146 -0.509849  1.313918   \n",
       "...          ...       ...       ...  ...       ...       ...       ...   \n",
       "157665  0.581976  1.223488  0.958483  ...  0.150043  0.474159  0.149608   \n",
       "255583  0.838206 -0.677182 -0.563171  ...  0.313367  0.861210 -0.050977   \n",
       "127806  0.010562  0.131343  0.090405  ... -0.046824 -0.104716 -0.108169   \n",
       "117182  0.476587 -0.882298 -0.053545  ...  0.207373  0.575584 -0.096018   \n",
       "253685 -0.438773  0.610017 -0.073482  ...  0.009924  0.242724  0.027848   \n",
       "\n",
       "             V24       V25       V26       V27       V28    Amount  Class  \n",
       "212644 -0.619437 -1.732613  0.108361  1.130828  0.415703  0.291164      1  \n",
       "254344  0.359637 -0.435972 -0.248480  0.021527  0.109192  0.074844      1  \n",
       "6108   -0.053502  0.252405 -0.657488 -0.827136  0.849573  0.023600      1  \n",
       "18472  -0.103679  0.896178  0.407387 -0.130918  0.192177  0.000272      1  \n",
       "72757   0.355065  0.448552  0.193490  1.214588 -0.013923  0.000716      1  \n",
       "...          ...       ...       ...       ...       ...       ...    ...  \n",
       "157665  0.030488  0.189485  0.587961 -0.095825 -0.059485  0.000024      0  \n",
       "255583  0.802230 -0.077747  0.068223  0.235852  0.202470  0.000584      0  \n",
       "127806  0.525026  0.636720 -0.374057  0.006815  0.017088  0.020600      0  \n",
       "117182  0.532026 -0.251183 -0.342894  0.286108  0.151363  0.001412      0  \n",
       "253685  0.010849  0.336280 -0.218755 -0.036731 -0.064746  0.007992      0  \n",
       "\n",
       "[984 rows x 30 columns]"
      ]
     },
     "execution_count": 45,
     "metadata": {},
     "output_type": "execute_result"
    }
   ],
   "source": [
    "df_downsampling "
   ]
  },
  {
   "cell_type": "code",
   "execution_count": 46,
   "metadata": {},
   "outputs": [
    {
     "data": {
      "text/html": [
       "<div>\n",
       "<style scoped>\n",
       "    .dataframe tbody tr th:only-of-type {\n",
       "        vertical-align: middle;\n",
       "    }\n",
       "\n",
       "    .dataframe tbody tr th {\n",
       "        vertical-align: top;\n",
       "    }\n",
       "\n",
       "    .dataframe thead th {\n",
       "        text-align: right;\n",
       "    }\n",
       "</style>\n",
       "<table border=\"1\" class=\"dataframe\">\n",
       "  <thead>\n",
       "    <tr style=\"text-align: right;\">\n",
       "      <th></th>\n",
       "      <th>V1</th>\n",
       "      <th>V2</th>\n",
       "      <th>V3</th>\n",
       "      <th>V4</th>\n",
       "      <th>V5</th>\n",
       "      <th>V6</th>\n",
       "      <th>V7</th>\n",
       "      <th>V8</th>\n",
       "      <th>V9</th>\n",
       "      <th>V10</th>\n",
       "      <th>...</th>\n",
       "      <th>V21</th>\n",
       "      <th>V22</th>\n",
       "      <th>V23</th>\n",
       "      <th>V24</th>\n",
       "      <th>V25</th>\n",
       "      <th>V26</th>\n",
       "      <th>V27</th>\n",
       "      <th>V28</th>\n",
       "      <th>Amount</th>\n",
       "      <th>Class</th>\n",
       "    </tr>\n",
       "  </thead>\n",
       "  <tbody>\n",
       "    <tr>\n",
       "      <th>283327</th>\n",
       "      <td>1.988341</td>\n",
       "      <td>0.020694</td>\n",
       "      <td>-1.752471</td>\n",
       "      <td>1.222388</td>\n",
       "      <td>0.487394</td>\n",
       "      <td>-0.672546</td>\n",
       "      <td>0.435849</td>\n",
       "      <td>-0.160482</td>\n",
       "      <td>0.213028</td>\n",
       "      <td>0.471198</td>\n",
       "      <td>...</td>\n",
       "      <td>0.067161</td>\n",
       "      <td>0.285980</td>\n",
       "      <td>-0.043918</td>\n",
       "      <td>-0.434583</td>\n",
       "      <td>0.412345</td>\n",
       "      <td>-0.482106</td>\n",
       "      <td>-0.031572</td>\n",
       "      <td>-0.077328</td>\n",
       "      <td>0.007444</td>\n",
       "      <td>0</td>\n",
       "    </tr>\n",
       "    <tr>\n",
       "      <th>46918</th>\n",
       "      <td>-4.423508</td>\n",
       "      <td>1.648048</td>\n",
       "      <td>-6.934388</td>\n",
       "      <td>4.894601</td>\n",
       "      <td>-5.078131</td>\n",
       "      <td>0.010849</td>\n",
       "      <td>-3.409096</td>\n",
       "      <td>1.409291</td>\n",
       "      <td>-3.260672</td>\n",
       "      <td>-7.781353</td>\n",
       "      <td>...</td>\n",
       "      <td>0.698359</td>\n",
       "      <td>0.487478</td>\n",
       "      <td>1.228698</td>\n",
       "      <td>-0.535217</td>\n",
       "      <td>0.388278</td>\n",
       "      <td>-0.009466</td>\n",
       "      <td>2.300164</td>\n",
       "      <td>0.081231</td>\n",
       "      <td>0.259200</td>\n",
       "      <td>1</td>\n",
       "    </tr>\n",
       "    <tr>\n",
       "      <th>179985</th>\n",
       "      <td>2.022765</td>\n",
       "      <td>0.076045</td>\n",
       "      <td>-2.470272</td>\n",
       "      <td>0.101445</td>\n",
       "      <td>1.317935</td>\n",
       "      <td>-0.319378</td>\n",
       "      <td>0.792406</td>\n",
       "      <td>-0.275279</td>\n",
       "      <td>-0.206143</td>\n",
       "      <td>0.075921</td>\n",
       "      <td>...</td>\n",
       "      <td>0.346508</td>\n",
       "      <td>1.338432</td>\n",
       "      <td>-0.086326</td>\n",
       "      <td>-0.898992</td>\n",
       "      <td>0.409992</td>\n",
       "      <td>1.114642</td>\n",
       "      <td>-0.089038</td>\n",
       "      <td>-0.108232</td>\n",
       "      <td>0.000800</td>\n",
       "      <td>0</td>\n",
       "    </tr>\n",
       "    <tr>\n",
       "      <th>249607</th>\n",
       "      <td>-7.381547</td>\n",
       "      <td>-7.449015</td>\n",
       "      <td>-4.696287</td>\n",
       "      <td>3.728439</td>\n",
       "      <td>6.198304</td>\n",
       "      <td>-6.406267</td>\n",
       "      <td>-5.831452</td>\n",
       "      <td>1.457175</td>\n",
       "      <td>-0.646203</td>\n",
       "      <td>-4.029129</td>\n",
       "      <td>...</td>\n",
       "      <td>1.176575</td>\n",
       "      <td>-0.978692</td>\n",
       "      <td>-0.278330</td>\n",
       "      <td>-0.635874</td>\n",
       "      <td>0.123539</td>\n",
       "      <td>0.404729</td>\n",
       "      <td>0.704915</td>\n",
       "      <td>-1.229992</td>\n",
       "      <td>0.014000</td>\n",
       "      <td>1</td>\n",
       "    </tr>\n",
       "    <tr>\n",
       "      <th>145800</th>\n",
       "      <td>-0.419820</td>\n",
       "      <td>-1.155978</td>\n",
       "      <td>-2.092516</td>\n",
       "      <td>2.786750</td>\n",
       "      <td>0.736297</td>\n",
       "      <td>-0.167292</td>\n",
       "      <td>1.600027</td>\n",
       "      <td>-0.117427</td>\n",
       "      <td>-0.796954</td>\n",
       "      <td>-0.133950</td>\n",
       "      <td>...</td>\n",
       "      <td>0.480640</td>\n",
       "      <td>0.533517</td>\n",
       "      <td>1.284645</td>\n",
       "      <td>0.516131</td>\n",
       "      <td>-0.602941</td>\n",
       "      <td>-0.305024</td>\n",
       "      <td>-0.021363</td>\n",
       "      <td>0.129096</td>\n",
       "      <td>0.180508</td>\n",
       "      <td>1</td>\n",
       "    </tr>\n",
       "    <tr>\n",
       "      <th>...</th>\n",
       "      <td>...</td>\n",
       "      <td>...</td>\n",
       "      <td>...</td>\n",
       "      <td>...</td>\n",
       "      <td>...</td>\n",
       "      <td>...</td>\n",
       "      <td>...</td>\n",
       "      <td>...</td>\n",
       "      <td>...</td>\n",
       "      <td>...</td>\n",
       "      <td>...</td>\n",
       "      <td>...</td>\n",
       "      <td>...</td>\n",
       "      <td>...</td>\n",
       "      <td>...</td>\n",
       "      <td>...</td>\n",
       "      <td>...</td>\n",
       "      <td>...</td>\n",
       "      <td>...</td>\n",
       "      <td>...</td>\n",
       "      <td>...</td>\n",
       "    </tr>\n",
       "    <tr>\n",
       "      <th>149522</th>\n",
       "      <td>-3.951209</td>\n",
       "      <td>2.881805</td>\n",
       "      <td>-6.421490</td>\n",
       "      <td>2.434181</td>\n",
       "      <td>-1.327325</td>\n",
       "      <td>-2.122106</td>\n",
       "      <td>-3.227533</td>\n",
       "      <td>-0.685560</td>\n",
       "      <td>0.775985</td>\n",
       "      <td>-4.723092</td>\n",
       "      <td>...</td>\n",
       "      <td>1.410479</td>\n",
       "      <td>0.279403</td>\n",
       "      <td>0.570821</td>\n",
       "      <td>0.656271</td>\n",
       "      <td>-0.298601</td>\n",
       "      <td>-0.407571</td>\n",
       "      <td>-1.378703</td>\n",
       "      <td>1.379130</td>\n",
       "      <td>0.021076</td>\n",
       "      <td>1</td>\n",
       "    </tr>\n",
       "    <tr>\n",
       "      <th>192382</th>\n",
       "      <td>0.753356</td>\n",
       "      <td>2.284988</td>\n",
       "      <td>-5.164492</td>\n",
       "      <td>3.831112</td>\n",
       "      <td>-0.073622</td>\n",
       "      <td>-1.316596</td>\n",
       "      <td>-1.855495</td>\n",
       "      <td>0.831079</td>\n",
       "      <td>-1.567514</td>\n",
       "      <td>-3.224559</td>\n",
       "      <td>...</td>\n",
       "      <td>0.382007</td>\n",
       "      <td>0.033958</td>\n",
       "      <td>0.187697</td>\n",
       "      <td>0.358433</td>\n",
       "      <td>-0.488934</td>\n",
       "      <td>-0.258802</td>\n",
       "      <td>0.296145</td>\n",
       "      <td>-0.047174</td>\n",
       "      <td>0.000800</td>\n",
       "      <td>1</td>\n",
       "    </tr>\n",
       "    <tr>\n",
       "      <th>278612</th>\n",
       "      <td>-0.183297</td>\n",
       "      <td>0.984150</td>\n",
       "      <td>0.175757</td>\n",
       "      <td>-0.642629</td>\n",
       "      <td>0.330315</td>\n",
       "      <td>-1.079659</td>\n",
       "      <td>0.926997</td>\n",
       "      <td>-0.126624</td>\n",
       "      <td>0.260810</td>\n",
       "      <td>-0.087032</td>\n",
       "      <td>...</td>\n",
       "      <td>-0.294584</td>\n",
       "      <td>-0.632163</td>\n",
       "      <td>0.090065</td>\n",
       "      <td>-0.044704</td>\n",
       "      <td>-0.480196</td>\n",
       "      <td>0.150614</td>\n",
       "      <td>0.352416</td>\n",
       "      <td>0.154441</td>\n",
       "      <td>0.000396</td>\n",
       "      <td>0</td>\n",
       "    </tr>\n",
       "    <tr>\n",
       "      <th>153835</th>\n",
       "      <td>-22.341889</td>\n",
       "      <td>15.536133</td>\n",
       "      <td>-22.865228</td>\n",
       "      <td>7.043374</td>\n",
       "      <td>-14.183129</td>\n",
       "      <td>-0.463145</td>\n",
       "      <td>-28.215112</td>\n",
       "      <td>-14.607791</td>\n",
       "      <td>-9.481456</td>\n",
       "      <td>-20.949192</td>\n",
       "      <td>...</td>\n",
       "      <td>-9.110423</td>\n",
       "      <td>4.158895</td>\n",
       "      <td>1.412928</td>\n",
       "      <td>0.382801</td>\n",
       "      <td>0.447154</td>\n",
       "      <td>-0.632816</td>\n",
       "      <td>-4.380154</td>\n",
       "      <td>-0.467863</td>\n",
       "      <td>0.000400</td>\n",
       "      <td>1</td>\n",
       "    </tr>\n",
       "    <tr>\n",
       "      <th>74496</th>\n",
       "      <td>-7.347955</td>\n",
       "      <td>2.397041</td>\n",
       "      <td>-7.572356</td>\n",
       "      <td>5.177819</td>\n",
       "      <td>-2.854838</td>\n",
       "      <td>-1.795239</td>\n",
       "      <td>-8.783235</td>\n",
       "      <td>0.437157</td>\n",
       "      <td>-3.740598</td>\n",
       "      <td>-8.332863</td>\n",
       "      <td>...</td>\n",
       "      <td>-0.175273</td>\n",
       "      <td>0.543325</td>\n",
       "      <td>-0.547955</td>\n",
       "      <td>-0.503722</td>\n",
       "      <td>-0.310933</td>\n",
       "      <td>-0.163986</td>\n",
       "      <td>1.197895</td>\n",
       "      <td>0.378187</td>\n",
       "      <td>0.000332</td>\n",
       "      <td>1</td>\n",
       "    </tr>\n",
       "  </tbody>\n",
       "</table>\n",
       "<p>984 rows × 30 columns</p>\n",
       "</div>"
      ],
      "text/plain": [
       "               V1         V2         V3        V4         V5        V6  \\\n",
       "283327   1.988341   0.020694  -1.752471  1.222388   0.487394 -0.672546   \n",
       "46918   -4.423508   1.648048  -6.934388  4.894601  -5.078131  0.010849   \n",
       "179985   2.022765   0.076045  -2.470272  0.101445   1.317935 -0.319378   \n",
       "249607  -7.381547  -7.449015  -4.696287  3.728439   6.198304 -6.406267   \n",
       "145800  -0.419820  -1.155978  -2.092516  2.786750   0.736297 -0.167292   \n",
       "...           ...        ...        ...       ...        ...       ...   \n",
       "149522  -3.951209   2.881805  -6.421490  2.434181  -1.327325 -2.122106   \n",
       "192382   0.753356   2.284988  -5.164492  3.831112  -0.073622 -1.316596   \n",
       "278612  -0.183297   0.984150   0.175757 -0.642629   0.330315 -1.079659   \n",
       "153835 -22.341889  15.536133 -22.865228  7.043374 -14.183129 -0.463145   \n",
       "74496   -7.347955   2.397041  -7.572356  5.177819  -2.854838 -1.795239   \n",
       "\n",
       "               V7         V8        V9        V10  ...       V21       V22  \\\n",
       "283327   0.435849  -0.160482  0.213028   0.471198  ...  0.067161  0.285980   \n",
       "46918   -3.409096   1.409291 -3.260672  -7.781353  ...  0.698359  0.487478   \n",
       "179985   0.792406  -0.275279 -0.206143   0.075921  ...  0.346508  1.338432   \n",
       "249607  -5.831452   1.457175 -0.646203  -4.029129  ...  1.176575 -0.978692   \n",
       "145800   1.600027  -0.117427 -0.796954  -0.133950  ...  0.480640  0.533517   \n",
       "...           ...        ...       ...        ...  ...       ...       ...   \n",
       "149522  -3.227533  -0.685560  0.775985  -4.723092  ...  1.410479  0.279403   \n",
       "192382  -1.855495   0.831079 -1.567514  -3.224559  ...  0.382007  0.033958   \n",
       "278612   0.926997  -0.126624  0.260810  -0.087032  ... -0.294584 -0.632163   \n",
       "153835 -28.215112 -14.607791 -9.481456 -20.949192  ... -9.110423  4.158895   \n",
       "74496   -8.783235   0.437157 -3.740598  -8.332863  ... -0.175273  0.543325   \n",
       "\n",
       "             V23       V24       V25       V26       V27       V28    Amount  \\\n",
       "283327 -0.043918 -0.434583  0.412345 -0.482106 -0.031572 -0.077328  0.007444   \n",
       "46918   1.228698 -0.535217  0.388278 -0.009466  2.300164  0.081231  0.259200   \n",
       "179985 -0.086326 -0.898992  0.409992  1.114642 -0.089038 -0.108232  0.000800   \n",
       "249607 -0.278330 -0.635874  0.123539  0.404729  0.704915 -1.229992  0.014000   \n",
       "145800  1.284645  0.516131 -0.602941 -0.305024 -0.021363  0.129096  0.180508   \n",
       "...          ...       ...       ...       ...       ...       ...       ...   \n",
       "149522  0.570821  0.656271 -0.298601 -0.407571 -1.378703  1.379130  0.021076   \n",
       "192382  0.187697  0.358433 -0.488934 -0.258802  0.296145 -0.047174  0.000800   \n",
       "278612  0.090065 -0.044704 -0.480196  0.150614  0.352416  0.154441  0.000396   \n",
       "153835  1.412928  0.382801  0.447154 -0.632816 -4.380154 -0.467863  0.000400   \n",
       "74496  -0.547955 -0.503722 -0.310933 -0.163986  1.197895  0.378187  0.000332   \n",
       "\n",
       "        Class  \n",
       "283327      0  \n",
       "46918       1  \n",
       "179985      0  \n",
       "249607      1  \n",
       "145800      1  \n",
       "...       ...  \n",
       "149522      1  \n",
       "192382      1  \n",
       "278612      0  \n",
       "153835      1  \n",
       "74496       1  \n",
       "\n",
       "[984 rows x 30 columns]"
      ]
     },
     "execution_count": 46,
     "metadata": {},
     "output_type": "execute_result"
    }
   ],
   "source": [
    "df_downsampling.sample(frac=1, random_state=42) "
   ]
  },
  {
   "cell_type": "code",
   "execution_count": 47,
   "metadata": {},
   "outputs": [
    {
     "data": {
      "text/plain": [
       "<matplotlib.axes._subplots.AxesSubplot at 0x18358ebb548>"
      ]
     },
     "execution_count": 47,
     "metadata": {},
     "output_type": "execute_result"
    },
    {
     "data": {
      "image/png": "[encoded data removed]",
      "text/plain": [
       "<Figure size 432x288 with 1 Axes>"
      ]
     },
     "metadata": {},
     "output_type": "display_data"
    }
   ],
   "source": [
    "sns.countplot(\"Class\", data = df_downsampling)"
   ]
  },
  {
   "cell_type": "markdown",
   "metadata": {},
   "source": [
    "We have now balanced classes, so let's apply again our previusly defined models"
   ]
  },
  {
   "cell_type": "code",
   "execution_count": 48,
   "metadata": {},
   "outputs": [],
   "source": [
    "X2 = df_downsampling.drop(['Class'],axis=1) # INDEPENDENT VARIABLES\n",
    "y2 = df_downsampling[['Class']] #  VARIABLE TO PREDICT\n",
    "\n",
    "X_train2, X_test2, y_train2, y_test2 = train_test_split(X2,y2,test_size=0.3, random_state=23)"
   ]
  },
  {
   "cell_type": "code",
   "execution_count": 49,
   "metadata": {},
   "outputs": [],
   "source": [
    "# instanciating linear regression model\n",
    "lr2 = LogisticRegression(solver=\"liblinear\")\n",
    "\n",
    "# training the model\n",
    "lr2.fit(X_train2, y_train2.values.ravel())\n",
    "\n",
    "# making predictions\n",
    "y_pred_lr2 = lr2.predict(X_test) #using original X_test to predict"
   ]
  },
  {
   "cell_type": "code",
   "execution_count": 50,
   "metadata": {},
   "outputs": [],
   "source": [
    "# instanciating random forest classifier\n",
    "rfc2 = RandomForestClassifier(n_estimators = 10)\n",
    "\n",
    "# training the model\n",
    "rfc2.fit(X_train2, y_train2.values.ravel())\n",
    "\n",
    "# making predictions\n",
    "y_pred_rfc2 = rfc2.predict(X_test) #using original X_test to predict"
   ]
  },
  {
   "cell_type": "code",
   "execution_count": 51,
   "metadata": {},
   "outputs": [
    {
     "name": "stdout",
     "output_type": "stream",
     "text": [
      "__________________________________________________________\n",
      "PERFORMANCE OF MODEL = Linear Regression\n",
      "__________________________________________________________\n",
      "Accuracy of the model = 0.964\n",
      "Precision of the model = 0.049\n",
      "Recall of the model = 0.935\n",
      "f1 score of the model = 0.093\n"
     ]
    },
    {
     "data": {
      "image/png": "[encoded data removed]",
      "text/plain": [
       "<Figure size 432x288 with 2 Axes>"
      ]
     },
     "metadata": {},
     "output_type": "display_data"
    }
   ],
   "source": [
    "show_model_results(\"Linear Regression\", y_pred_lr2, y_test)"
   ]
  },
  {
   "cell_type": "code",
   "execution_count": 52,
   "metadata": {},
   "outputs": [
    {
     "name": "stdout",
     "output_type": "stream",
     "text": [
      "__________________________________________________________\n",
      "PERFORMANCE OF MODEL = Random Forest Classifier\n",
      "__________________________________________________________\n",
      "Accuracy of the model = 0.972\n",
      "Precision of the model = 0.064\n",
      "Recall of the model = 0.959\n",
      "f1 score of the model = 0.12\n"
     ]
    },
    {
     "data": {
      "image/png": "[encoded data removed]",
      "text/plain": [
       "<Figure size 432x288 with 2 Axes>"
      ]
     },
     "metadata": {},
     "output_type": "display_data"
    }
   ],
   "source": [
    "show_model_results(\"Random Forest Classifier\", y_pred_rfc2, y_test)"
   ]
  },
  {
   "cell_type": "markdown",
   "metadata": {},
   "source": [
    "Recall has improved a lot, but we see the effect of undersampling in the bad score of precision. After undesampling, we have so few observations from Class \"0\" that this models are wrongly classifying a lot of \"No fraud\" as \"Fraud\""
   ]
  },
  {
   "cell_type": "markdown",
   "metadata": {},
   "source": [
    "### OVERSAMPLING SMOTE\n",
    "(using all available data to oversample) \n",
    "Note: Be carefull with overfitting in this case, as we are replicating exact data points\n",
    "SMOTE = Synthetic Minority Oversampling Technique. SMOTE works by selecting examples that are close in the feature space, drawing a line between the examples in the feature space and drawing a new sample at a point along that line"
   ]
  },
  {
   "cell_type": "code",
   "execution_count": 53,
   "metadata": {},
   "outputs": [],
   "source": [
    "X_smote, y_smote = SMOTE().fit_sample(X,y)"
   ]
  },
  {
   "cell_type": "code",
   "execution_count": 54,
   "metadata": {},
   "outputs": [
    {
     "data": {
      "text/plain": [
       "1    283875\n",
       "0    283875\n",
       "Name: Class, dtype: int64"
      ]
     },
     "execution_count": 54,
     "metadata": {},
     "output_type": "execute_result"
    }
   ],
   "source": [
    "y_smote[\"Class\"].value_counts()"
   ]
  },
  {
   "cell_type": "code",
   "execution_count": 55,
   "metadata": {},
   "outputs": [],
   "source": [
    "X_train3, X_test3, y_train3, y_test3 = train_test_split(X_smote,y_smote,test_size=0.3, random_state=23)"
   ]
  },
  {
   "cell_type": "code",
   "execution_count": 56,
   "metadata": {},
   "outputs": [],
   "source": [
    "# instanciating linear regression model\n",
    "lr3 = LogisticRegression(solver=\"liblinear\")\n",
    "\n",
    "# training the model\n",
    "lr3.fit(X_train3, y_train3.values.ravel())\n",
    "\n",
    "# making predictions\n",
    "y_pred_lr3 = lr3.predict(X_test) #using original X_test to predict"
   ]
  },
  {
   "cell_type": "code",
   "execution_count": 57,
   "metadata": {},
   "outputs": [],
   "source": [
    "# instanciating random forest classifier\n",
    "rfc3 = RandomForestClassifier(n_estimators = 10)\n",
    "\n",
    "# training the model\n",
    "rfc3.fit(X_train3, y_train3.values.ravel())\n",
    "\n",
    "# making predictions\n",
    "y_pred_rfc3 = rfc3.predict(X_test) #using original X_test to predict"
   ]
  },
  {
   "cell_type": "code",
   "execution_count": 58,
   "metadata": {},
   "outputs": [
    {
     "name": "stdout",
     "output_type": "stream",
     "text": [
      "__________________________________________________________\n",
      "PERFORMANCE OF MODEL = Linear Regression\n",
      "__________________________________________________________\n",
      "Accuracy of the model = 0.975\n",
      "Precision of the model = 0.069\n",
      "Recall of the model = 0.923\n",
      "f1 score of the model = 0.129\n"
     ]
    },
    {
     "data": {
      "image/png": "[encoded data removed]",
      "text/plain": [
       "<Figure size 432x288 with 2 Axes>"
      ]
     },
     "metadata": {},
     "output_type": "display_data"
    }
   ],
   "source": [
    "show_model_results(\"Linear Regression\", y_pred_lr3, y_test)"
   ]
  },
  {
   "cell_type": "code",
   "execution_count": 59,
   "metadata": {},
   "outputs": [
    {
     "name": "stdout",
     "output_type": "stream",
     "text": [
      "__________________________________________________________\n",
      "PERFORMANCE OF MODEL = Random Forest Classifier\n",
      "__________________________________________________________\n",
      "Accuracy of the model = 1.0\n",
      "Precision of the model = 0.939\n",
      "Recall of the model = 0.994\n",
      "f1 score of the model = 0.966\n"
     ]
    },
    {
     "data": {
      "image/png": "[encoded data removed]",
      "text/plain": [
       "<Figure size 432x288 with 2 Axes>"
      ]
     },
     "metadata": {},
     "output_type": "display_data"
    }
   ],
   "source": [
    "show_model_results(\"Random Forest Classifier\", y_pred_rfc3, y_test)"
   ]
  },
  {
   "cell_type": "markdown",
   "metadata": {},
   "source": [
    "Looks like we have, with the Random forest Classifier, a good model, something overfitted though. Let's work on that later with the StratifiedKFold validation."
   ]
  },
  {
   "cell_type": "markdown",
   "metadata": {},
   "source": [
    "### OVERSAMPLING SMOTE WITH KFOLD\n",
    "(using stratified samples of data to oversample with SMOTE)"
   ]
  },
  {
   "cell_type": "code",
   "execution_count": 60,
   "metadata": {},
   "outputs": [],
   "source": [
    "kfold = StratifiedKFold(n_splits=4, shuffle=True, random_state=1) # using 4 splits"
   ]
  },
  {
   "cell_type": "code",
   "execution_count": 61,
   "metadata": {},
   "outputs": [
    {
     "name": "stdout",
     "output_type": "stream",
     "text": [
      "***********************************************\n",
      ">Train: 0=212906, 1=369, Test: 0=70969, 1=123\n",
      "425812\n",
      "425812\n",
      "__________________________________________________________\n",
      "PERFORMANCE OF MODEL = Linear Regression\n",
      "__________________________________________________________\n",
      "Accuracy of the model = 0.976\n",
      "Precision of the model = 0.062\n",
      "Recall of the model = 0.886\n",
      "f1 score of the model = 0.115\n",
      "__________________________________________________________\n",
      "PERFORMANCE OF MODEL = Random Forest Classifier\n",
      "__________________________________________________________\n",
      "Accuracy of the model = 0.999\n",
      "Precision of the model = 0.866\n",
      "Recall of the model = 0.789\n",
      "f1 score of the model = 0.826\n",
      "***********************************************\n",
      ">Train: 0=212906, 1=369, Test: 0=70969, 1=123\n",
      "425812\n",
      "425812\n",
      "__________________________________________________________\n",
      "PERFORMANCE OF MODEL = Linear Regression\n",
      "__________________________________________________________\n",
      "Accuracy of the model = 0.974\n",
      "Precision of the model = 0.059\n",
      "Recall of the model = 0.935\n",
      "f1 score of the model = 0.11\n",
      "__________________________________________________________\n",
      "PERFORMANCE OF MODEL = Random Forest Classifier\n",
      "__________________________________________________________\n",
      "Accuracy of the model = 0.999\n",
      "Precision of the model = 0.85\n",
      "Recall of the model = 0.829\n",
      "f1 score of the model = 0.84\n",
      "***********************************************\n",
      ">Train: 0=212906, 1=369, Test: 0=70969, 1=123\n",
      "425812\n",
      "425812\n",
      "__________________________________________________________\n",
      "PERFORMANCE OF MODEL = Linear Regression\n",
      "__________________________________________________________\n",
      "Accuracy of the model = 0.973\n",
      "Precision of the model = 0.056\n",
      "Recall of the model = 0.919\n",
      "f1 score of the model = 0.106\n",
      "__________________________________________________________\n",
      "PERFORMANCE OF MODEL = Random Forest Classifier\n",
      "__________________________________________________________\n",
      "Accuracy of the model = 1.0\n",
      "Precision of the model = 0.942\n",
      "Recall of the model = 0.789\n",
      "f1 score of the model = 0.858\n",
      "***********************************************\n",
      ">Train: 0=212907, 1=369, Test: 0=70968, 1=123\n",
      "425814\n",
      "425814\n",
      "__________________________________________________________\n",
      "PERFORMANCE OF MODEL = Linear Regression\n",
      "__________________________________________________________\n",
      "Accuracy of the model = 0.973\n",
      "Precision of the model = 0.056\n",
      "Recall of the model = 0.911\n",
      "f1 score of the model = 0.106\n",
      "__________________________________________________________\n",
      "PERFORMANCE OF MODEL = Random Forest Classifier\n",
      "__________________________________________________________\n",
      "Accuracy of the model = 0.999\n",
      "Precision of the model = 0.836\n",
      "Recall of the model = 0.829\n",
      "f1 score of the model = 0.833\n"
     ]
    },
    {
     "data": {
      "image/png": "[encoded data removed]",
      "text/plain": [
       "<Figure size 432x288 with 2 Axes>"
      ]
     },
     "metadata": {},
     "output_type": "display_data"
    },
    {
     "data": {
      "image/png": "[encoded data removed]",
      "text/plain": [
       "<Figure size 432x288 with 2 Axes>"
      ]
     },
     "metadata": {},
     "output_type": "display_data"
    },
    {
     "data": {
      "image/png": "[encoded data removed]",
      "text/plain": [
       "<Figure size 432x288 with 2 Axes>"
      ]
     },
     "metadata": {},
     "output_type": "display_data"
    },
    {
     "data": {
      "image/png": "[encoded data removed]",
      "text/plain": [
       "<Figure size 432x288 with 2 Axes>"
      ]
     },
     "metadata": {},
     "output_type": "display_data"
    },
    {
     "data": {
      "image/png": "[encoded data removed]",
      "text/plain": [
       "<Figure size 432x288 with 2 Axes>"
      ]
     },
     "metadata": {},
     "output_type": "display_data"
    },
    {
     "data": {
      "image/png": "[encoded data removed]",
      "text/plain": [
       "<Figure size 432x288 with 2 Axes>"
      ]
     },
     "metadata": {},
     "output_type": "display_data"
    },
    {
     "data": {
      "image/png": "[encoded data removed]",
      "text/plain": [
       "<Figure size 432x288 with 2 Axes>"
      ]
     },
     "metadata": {},
     "output_type": "display_data"
    },
    {
     "data": {
      "image/png": "[encoded data removed]",
      "text/plain": [
       "<Figure size 432x288 with 2 Axes>"
      ]
     },
     "metadata": {},
     "output_type": "display_data"
    }
   ],
   "source": [
    "# creating a for loop to run k-folds over X and y, SMOTE and models\n",
    "\n",
    "algorithms_lr=[] #initializing container\n",
    "algorithms_rfc=[] #initializing container\n",
    "\n",
    "\n",
    "for train_ix, test_ix in kfold.split(X, y):\n",
    "    print(\"***********************************************\")\n",
    "    train_X, test_X = X.iloc[train_ix], X.iloc[test_ix]\n",
    "    train_y, test_y = y.iloc[train_ix], y.iloc[test_ix]\n",
    "    \n",
    "    train_0, train_1 = len(train_y[train_y[\"Class\"]==0]),len(train_y[train_y[\"Class\"]==1])\n",
    "    test_0, test_1 = len(test_y[test_y[\"Class\"]==0]),len(test_y[test_y[\"Class\"]==1])\n",
    "    print('>Train: 0=%d, 1=%d, Test: 0=%d, 1=%d' % (train_0, train_1, test_0, test_1)) \n",
    "    \n",
    "    X_smote, y_smote = SMOTE(sampling_strategy='minority').fit_sample(train_X,train_y)\n",
    "    print(len(X_smote))\n",
    "    print(len(y_smote)) \n",
    "\n",
    "    \n",
    "    lr4 = LogisticRegression(solver=\"liblinear\")\n",
    "    lr4.fit(X_smote, y_smote.values.ravel())\n",
    "    algorithms_lr.append(lr4)\n",
    "    y_pred_lr4= lr4.predict(test_X)\n",
    "\n",
    "    rfc4 = RandomForestClassifier(n_estimators=10) \n",
    "    rfc4.fit(X_smote, y_smote.values.ravel()) \n",
    "    algorithms_rfc.append(rfc4)\n",
    "    y_pred_rfc4 = rfc4.predict(test_X) \n",
    "    \n",
    "    show_model_results(\"Linear Regression\", y_pred_lr4, test_y)\n",
    "    show_model_results(\"Random Forest Classifier\", y_pred_rfc4, test_y)"
   ]
  },
  {
   "cell_type": "code",
   "execution_count": 62,
   "metadata": {},
   "outputs": [
    {
     "data": {
      "text/plain": [
       "[LogisticRegression(C=1.0, class_weight=None, dual=False, fit_intercept=True,\n",
       "                    intercept_scaling=1, l1_ratio=None, max_iter=100,\n",
       "                    multi_class='auto', n_jobs=None, penalty='l2',\n",
       "                    random_state=None, solver='liblinear', tol=0.0001, verbose=0,\n",
       "                    warm_start=False),\n",
       " LogisticRegression(C=1.0, class_weight=None, dual=False, fit_intercept=True,\n",
       "                    intercept_scaling=1, l1_ratio=None, max_iter=100,\n",
       "                    multi_class='auto', n_jobs=None, penalty='l2',\n",
       "                    random_state=None, solver='liblinear', tol=0.0001, verbose=0,\n",
       "                    warm_start=False),\n",
       " LogisticRegression(C=1.0, class_weight=None, dual=False, fit_intercept=True,\n",
       "                    intercept_scaling=1, l1_ratio=None, max_iter=100,\n",
       "                    multi_class='auto', n_jobs=None, penalty='l2',\n",
       "                    random_state=None, solver='liblinear', tol=0.0001, verbose=0,\n",
       "                    warm_start=False),\n",
       " LogisticRegression(C=1.0, class_weight=None, dual=False, fit_intercept=True,\n",
       "                    intercept_scaling=1, l1_ratio=None, max_iter=100,\n",
       "                    multi_class='auto', n_jobs=None, penalty='l2',\n",
       "                    random_state=None, solver='liblinear', tol=0.0001, verbose=0,\n",
       "                    warm_start=False)]"
      ]
     },
     "execution_count": 62,
     "metadata": {},
     "output_type": "execute_result"
    }
   ],
   "source": [
    "algorithms_lr"
   ]
  },
  {
   "cell_type": "code",
   "execution_count": 63,
   "metadata": {},
   "outputs": [
    {
     "data": {
      "text/plain": [
       "[RandomForestClassifier(bootstrap=True, ccp_alpha=0.0, class_weight=None,\n",
       "                        criterion='gini', max_depth=None, max_features='auto',\n",
       "                        max_leaf_nodes=None, max_samples=None,\n",
       "                        min_impurity_decrease=0.0, min_impurity_split=None,\n",
       "                        min_samples_leaf=1, min_samples_split=2,\n",
       "                        min_weight_fraction_leaf=0.0, n_estimators=10,\n",
       "                        n_jobs=None, oob_score=False, random_state=None,\n",
       "                        verbose=0, warm_start=False),\n",
       " RandomForestClassifier(bootstrap=True, ccp_alpha=0.0, class_weight=None,\n",
       "                        criterion='gini', max_depth=None, max_features='auto',\n",
       "                        max_leaf_nodes=None, max_samples=None,\n",
       "                        min_impurity_decrease=0.0, min_impurity_split=None,\n",
       "                        min_samples_leaf=1, min_samples_split=2,\n",
       "                        min_weight_fraction_leaf=0.0, n_estimators=10,\n",
       "                        n_jobs=None, oob_score=False, random_state=None,\n",
       "                        verbose=0, warm_start=False),\n",
       " RandomForestClassifier(bootstrap=True, ccp_alpha=0.0, class_weight=None,\n",
       "                        criterion='gini', max_depth=None, max_features='auto',\n",
       "                        max_leaf_nodes=None, max_samples=None,\n",
       "                        min_impurity_decrease=0.0, min_impurity_split=None,\n",
       "                        min_samples_leaf=1, min_samples_split=2,\n",
       "                        min_weight_fraction_leaf=0.0, n_estimators=10,\n",
       "                        n_jobs=None, oob_score=False, random_state=None,\n",
       "                        verbose=0, warm_start=False),\n",
       " RandomForestClassifier(bootstrap=True, ccp_alpha=0.0, class_weight=None,\n",
       "                        criterion='gini', max_depth=None, max_features='auto',\n",
       "                        max_leaf_nodes=None, max_samples=None,\n",
       "                        min_impurity_decrease=0.0, min_impurity_split=None,\n",
       "                        min_samples_leaf=1, min_samples_split=2,\n",
       "                        min_weight_fraction_leaf=0.0, n_estimators=10,\n",
       "                        n_jobs=None, oob_score=False, random_state=None,\n",
       "                        verbose=0, warm_start=False)]"
      ]
     },
     "execution_count": 63,
     "metadata": {},
     "output_type": "execute_result"
    }
   ],
   "source": [
    "algorithms_rfc"
   ]
  },
  {
   "cell_type": "markdown",
   "metadata": {},
   "source": [
    "### Plotting precision_recall curve for the model"
   ]
  },
  {
   "cell_type": "code",
   "execution_count": 64,
   "metadata": {},
   "outputs": [
    {
     "data": {
      "image/png": "[encoded data removed]",
      "text/plain": [
       "<Figure size 432x288 with 1 Axes>"
      ]
     },
     "metadata": {},
     "output_type": "display_data"
    }
   ],
   "source": [
    "# Compute predicted probabilities: y_pred_prob\n",
    "y_pred_prob = rfc4.predict_proba(test_X)[:,1]\n",
    "\n",
    "# Generate precision recall curve values: precision, recall, thresholds\n",
    "precision, recall, thresholds = precision_recall_curve(test_y, y_pred_prob)\n",
    "\n",
    "# Plot ROC curve\n",
    "plt.plot(precision, recall)\n",
    "plt.xlabel('Recall')\n",
    "plt.ylabel('Precision')\n",
    "plt.title('Precision Recall Curve')\n",
    "plt.show()"
   ]
  },
  {
   "cell_type": "markdown",
   "metadata": {},
   "source": [
    "__________________________"
   ]
  },
  {
   "cell_type": "markdown",
   "metadata": {},
   "source": [
    "## CONCLUSIONS: \n",
    "- We ended with a pretty good model for detecting fraud in bank transactions  using Random Forest Classifier and SMOTE KFOLD oversampling, but this model is built under a specific Kfold split.\n",
    "- Future work: Try applying Regular SMOTE with Stratified Sampling, and applyting a single Random Forest Classifier with CrossValidation using KFold, and check mean of performances of that model for each Kfold."
   ]
  }
 ],
 "metadata": {
  "kernelspec": {
   "display_name": "Python 3",
   "language": "python",
   "name": "python3"
  },
  "language_info": {
   "codemirror_mode": {
    "name": "ipython",
    "version": 3
   },
   "file_extension": ".py",
   "mimetype": "text/x-python",
   "name": "python",
   "nbconvert_exporter": "python",
   "pygments_lexer": "ipython3",
   "version": "3.7.4"
  },
  "varInspector": {
   "cols": {
    "lenName": 16,
    "lenType": 16,
    "lenVar": 40
   },
   "kernels_config": {
    "python": {
     "delete_cmd_postfix": "",
     "delete_cmd_prefix": "del ",
     "library": "var_list.py",
     "varRefreshCmd": "print(var_dic_list())"
    },
    "r": {
     "delete_cmd_postfix": ") ",
     "delete_cmd_prefix": "rm(",
     "library": "var_list.r",
     "varRefreshCmd": "cat(var_dic_list()) "
    }
   },
   "types_to_exclude": [
    "module",
    "function",
    "builtin_function_or_method",
    "instance",
    "_Feature"
   ],
   "window_display": false
  }
 },
 "nbformat": 4,
 "nbformat_minor": 4
}
